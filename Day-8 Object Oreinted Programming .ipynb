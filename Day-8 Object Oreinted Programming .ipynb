{
 "cells": [
  {
   "cell_type": "code",
   "execution_count": 1,
   "id": "4a849cb2",
   "metadata": {},
   "outputs": [],
   "source": [
    "class Sample():\n",
    "    pass"
   ]
  },
  {
   "cell_type": "code",
   "execution_count": 2,
   "id": "9d907e7d",
   "metadata": {},
   "outputs": [],
   "source": [
    "my_Sample=Sample()"
   ]
  },
  {
   "cell_type": "code",
   "execution_count": 4,
   "id": "38c37e21",
   "metadata": {},
   "outputs": [
    {
     "data": {
      "text/plain": [
       "__main__.Sample"
      ]
     },
     "execution_count": 4,
     "metadata": {},
     "output_type": "execute_result"
    }
   ],
   "source": [
    "type(my_Sample)"
   ]
  },
  {
   "cell_type": "code",
   "execution_count": 5,
   "id": "4c0d6922",
   "metadata": {},
   "outputs": [],
   "source": [
    "class Dog():\n",
    "    def __init__(self,breed):\n",
    "        self.breed=breed"
   ]
  },
  {
   "cell_type": "code",
   "execution_count": 6,
   "id": "6040804a",
   "metadata": {},
   "outputs": [],
   "source": [
    "my_dog=Dog(breed='lab')"
   ]
  },
  {
   "cell_type": "code",
   "execution_count": 7,
   "id": "89a7b7fe",
   "metadata": {},
   "outputs": [
    {
     "data": {
      "text/plain": [
       "__main__.Dog"
      ]
     },
     "execution_count": 7,
     "metadata": {},
     "output_type": "execute_result"
    }
   ],
   "source": [
    "type(my_dog)"
   ]
  },
  {
   "cell_type": "code",
   "execution_count": 8,
   "id": "79ad647c",
   "metadata": {},
   "outputs": [
    {
     "data": {
      "text/plain": [
       "'lab'"
      ]
     },
     "execution_count": 8,
     "metadata": {},
     "output_type": "execute_result"
    }
   ],
   "source": [
    "my_dog.breed"
   ]
  },
  {
   "cell_type": "code",
   "execution_count": 9,
   "id": "5a6b6503",
   "metadata": {},
   "outputs": [],
   "source": [
    "class Dog():\n",
    "    def __init__(self,breed,name,spot):\n",
    "        #Attributes\n",
    "        #We take in arguments\n",
    "        #Assign it to self.attribut_name\n",
    "        self.breed=breed\n",
    "        self.name=name\n",
    "        #expecting the boolean, true/false\n",
    "        self.spot=spot"
   ]
  },
  {
   "cell_type": "code",
   "execution_count": 10,
   "id": "c2d5d23f",
   "metadata": {},
   "outputs": [],
   "source": [
    "my_dog=Dog(breed='lab',name=\"lax\",spot=False)"
   ]
  },
  {
   "cell_type": "code",
   "execution_count": 11,
   "id": "b240b2c0",
   "metadata": {},
   "outputs": [
    {
     "data": {
      "text/plain": [
       "__main__.Dog"
      ]
     },
     "execution_count": 11,
     "metadata": {},
     "output_type": "execute_result"
    }
   ],
   "source": [
    "type(my_dog)"
   ]
  },
  {
   "cell_type": "code",
   "execution_count": 12,
   "id": "2ade2e8f",
   "metadata": {},
   "outputs": [
    {
     "data": {
      "text/plain": [
       "'lab'"
      ]
     },
     "execution_count": 12,
     "metadata": {},
     "output_type": "execute_result"
    }
   ],
   "source": [
    "my_dog.breed"
   ]
  },
  {
   "cell_type": "code",
   "execution_count": 13,
   "id": "3a83d6c3",
   "metadata": {},
   "outputs": [
    {
     "data": {
      "text/plain": [
       "'lax'"
      ]
     },
     "execution_count": 13,
     "metadata": {},
     "output_type": "execute_result"
    }
   ],
   "source": [
    "my_dog.name"
   ]
  },
  {
   "cell_type": "code",
   "execution_count": 14,
   "id": "70eed4de",
   "metadata": {},
   "outputs": [
    {
     "data": {
      "text/plain": [
       "False"
      ]
     },
     "execution_count": 14,
     "metadata": {},
     "output_type": "execute_result"
    }
   ],
   "source": [
    "my_dog.spot"
   ]
  },
  {
   "cell_type": "markdown",
   "id": "31e87b5f",
   "metadata": {},
   "source": [
    "Class Object Attributes and methods"
   ]
  },
  {
   "cell_type": "code",
   "execution_count": 1,
   "id": "ecc12512",
   "metadata": {},
   "outputs": [],
   "source": [
    "class Dog():\n",
    "    #Class Object Attribute\n",
    "    #Same for any instance of a class\n",
    "    species='mammal'\n",
    "    \n",
    "    def __init__(self,breed,name,spot):\n",
    "        #Attributes\n",
    "        #We take in arguments\n",
    "        #Assign it to self.attribut_name\n",
    "        \n",
    "        self.breed=breed\n",
    "        self.name=name\n",
    "        \n",
    "        #expecting the boolean, true/false\n",
    "        \n",
    "        self.spot=spot"
   ]
  },
  {
   "cell_type": "code",
   "execution_count": 2,
   "id": "a33298f7",
   "metadata": {},
   "outputs": [],
   "source": [
    "my_dog=Dog(breed='goofy',name=\"lax\",spot=False)"
   ]
  },
  {
   "cell_type": "code",
   "execution_count": 3,
   "id": "1d6762b0",
   "metadata": {},
   "outputs": [
    {
     "data": {
      "text/plain": [
       "__main__.Dog"
      ]
     },
     "execution_count": 3,
     "metadata": {},
     "output_type": "execute_result"
    }
   ],
   "source": [
    "type(my_dog)"
   ]
  },
  {
   "cell_type": "code",
   "execution_count": 4,
   "id": "9ceec6b9",
   "metadata": {},
   "outputs": [
    {
     "data": {
      "text/plain": [
       "'mammal'"
      ]
     },
     "execution_count": 4,
     "metadata": {},
     "output_type": "execute_result"
    }
   ],
   "source": [
    "my_dog.species"
   ]
  },
  {
   "cell_type": "code",
   "execution_count": 5,
   "id": "743da2a3",
   "metadata": {},
   "outputs": [
    {
     "data": {
      "text/plain": [
       "'goofy'"
      ]
     },
     "execution_count": 5,
     "metadata": {},
     "output_type": "execute_result"
    }
   ],
   "source": [
    "my_dog.breed"
   ]
  },
  {
   "cell_type": "markdown",
   "id": "d203252b",
   "metadata": {},
   "source": [
    "Methods: these are functions defined inside the body of the class and they are user to perform operations. They are some times utilises the actual attributes of the object created. "
   ]
  },
  {
   "cell_type": "code",
   "execution_count": 45,
   "id": "a0af71f0",
   "metadata": {},
   "outputs": [],
   "source": [
    "class Dog():\n",
    "    #Class Object Attribute\n",
    "    #Same for any instance of a class\n",
    "    species='mammal'\n",
    "    \n",
    "    def __init__(self,breed,name):\n",
    "        #Attributes\n",
    "        #We take in arguments\n",
    "        #Assign it to self.attribut_name\n",
    "        \n",
    "        self.breed=breed\n",
    "        self.name=name\n",
    "        \n",
    "        # Operations/actions ----> Methods\n",
    "        \n",
    "    def bark(self,number):\n",
    "        print(\"Woolf my name is {} and number is {}\".format(self.name,number))"
   ]
  },
  {
   "cell_type": "code",
   "execution_count": 46,
   "id": "06ed8cc4",
   "metadata": {},
   "outputs": [],
   "source": [
    "my_dog=Dog(breed='goofy',name=\"lax\")"
   ]
  },
  {
   "cell_type": "code",
   "execution_count": 47,
   "id": "826b7fb4",
   "metadata": {},
   "outputs": [
    {
     "data": {
      "text/plain": [
       "__main__.Dog"
      ]
     },
     "execution_count": 47,
     "metadata": {},
     "output_type": "execute_result"
    }
   ],
   "source": [
    "type(my_dog)"
   ]
  },
  {
   "cell_type": "code",
   "execution_count": 48,
   "id": "912d0570",
   "metadata": {},
   "outputs": [
    {
     "data": {
      "text/plain": [
       "'goofy'"
      ]
     },
     "execution_count": 48,
     "metadata": {},
     "output_type": "execute_result"
    }
   ],
   "source": [
    "my_dog.breed"
   ]
  },
  {
   "cell_type": "code",
   "execution_count": 49,
   "id": "360feef3",
   "metadata": {},
   "outputs": [
    {
     "data": {
      "text/plain": [
       "'mammal'"
      ]
     },
     "execution_count": 49,
     "metadata": {},
     "output_type": "execute_result"
    }
   ],
   "source": [
    "my_dog.species"
   ]
  },
  {
   "cell_type": "code",
   "execution_count": 51,
   "id": "eed608d4",
   "metadata": {},
   "outputs": [
    {
     "name": "stdout",
     "output_type": "stream",
     "text": [
      "Woolf my name is lax and number is 20\n"
     ]
    }
   ],
   "source": [
    "my_dog.bark(20)"
   ]
  },
  {
   "cell_type": "code",
   "execution_count": 70,
   "id": "162de9fe",
   "metadata": {},
   "outputs": [],
   "source": [
    "class Circle():\n",
    "    pi=3.14\n",
    "    def __init__(self,radius=1):\n",
    "        self.radius=radius\n",
    "        self.area=self.radius**2 * Circle.pi\n",
    "        \n",
    "    def Circumference(self):\n",
    "        return self.radius* Circle.pi *2\n",
    "    "
   ]
  },
  {
   "cell_type": "code",
   "execution_count": 71,
   "id": "0b3ab010",
   "metadata": {},
   "outputs": [],
   "source": [
    "my_circle=Circle(5)"
   ]
  },
  {
   "cell_type": "code",
   "execution_count": 72,
   "id": "6c056988",
   "metadata": {},
   "outputs": [
    {
     "data": {
      "text/plain": [
       "3.14"
      ]
     },
     "execution_count": 72,
     "metadata": {},
     "output_type": "execute_result"
    }
   ],
   "source": [
    "my_circle.pi"
   ]
  },
  {
   "cell_type": "code",
   "execution_count": 73,
   "id": "11cebec9",
   "metadata": {},
   "outputs": [
    {
     "data": {
      "text/plain": [
       "5"
      ]
     },
     "execution_count": 73,
     "metadata": {},
     "output_type": "execute_result"
    }
   ],
   "source": [
    "my_circle.radius"
   ]
  },
  {
   "cell_type": "code",
   "execution_count": 74,
   "id": "cedc2485",
   "metadata": {},
   "outputs": [
    {
     "data": {
      "text/plain": [
       "31.400000000000002"
      ]
     },
     "execution_count": 74,
     "metadata": {},
     "output_type": "execute_result"
    }
   ],
   "source": [
    "my_circle.Circumference()"
   ]
  },
  {
   "cell_type": "code",
   "execution_count": 75,
   "id": "c07aa5c4",
   "metadata": {},
   "outputs": [
    {
     "data": {
      "text/plain": [
       "78.5"
      ]
     },
     "execution_count": 75,
     "metadata": {},
     "output_type": "execute_result"
    }
   ],
   "source": [
    "my_circle.area"
   ]
  },
  {
   "cell_type": "markdown",
   "id": "11c2dd20",
   "metadata": {},
   "source": [
    "Inheritance and polymorphism"
   ]
  },
  {
   "cell_type": "code",
   "execution_count": 4,
   "id": "babbb779",
   "metadata": {},
   "outputs": [],
   "source": [
    "class Animal():#Base class\n",
    "    def __init__(self):\n",
    "        print(\"Iam Animal\")\n",
    "    def who_r_u(self):\n",
    "        print(\"I am Animal\")\n",
    "    def eat(self):\n",
    "        print(\"Iam eating\")"
   ]
  },
  {
   "cell_type": "code",
   "execution_count": 5,
   "id": "f0805a3c",
   "metadata": {},
   "outputs": [
    {
     "name": "stdout",
     "output_type": "stream",
     "text": [
      "Iam Animal\n"
     ]
    }
   ],
   "source": [
    "myanimal=Animal()"
   ]
  },
  {
   "cell_type": "code",
   "execution_count": 7,
   "id": "6f343d1e",
   "metadata": {},
   "outputs": [
    {
     "name": "stdout",
     "output_type": "stream",
     "text": [
      "Iam eating\n"
     ]
    }
   ],
   "source": [
    "myanimal.eat()"
   ]
  },
  {
   "cell_type": "code",
   "execution_count": 8,
   "id": "f369e63b",
   "metadata": {},
   "outputs": [
    {
     "name": "stdout",
     "output_type": "stream",
     "text": [
      "I am Animal\n"
     ]
    }
   ],
   "source": [
    "myanimal.who_r_u()"
   ]
  },
  {
   "cell_type": "code",
   "execution_count": 13,
   "id": "ba8cd4d7",
   "metadata": {},
   "outputs": [],
   "source": [
    "class Dog(Animal):    #derived class , Inheriting the things from base class\n",
    "    def __init__(self):\n",
    "        Animal.__init__(self)  # creating an instance of animal class when creating the instance of dog class\n",
    "        print(\"dog created\")\n",
    "    def who_r_u(self):\n",
    "        print(\"I am dog\")  # we can overwrite the method for a aprticular class\n",
    "    # add new methods as well"
   ]
  },
  {
   "cell_type": "code",
   "execution_count": 14,
   "id": "2cd684b7",
   "metadata": {},
   "outputs": [
    {
     "name": "stdout",
     "output_type": "stream",
     "text": [
      "Iam Animal\n",
      "dog created\n"
     ]
    }
   ],
   "source": [
    "mydog=Dog()"
   ]
  },
  {
   "cell_type": "code",
   "execution_count": 15,
   "id": "36c81cd6",
   "metadata": {},
   "outputs": [
    {
     "name": "stdout",
     "output_type": "stream",
     "text": [
      "I am dog\n"
     ]
    }
   ],
   "source": [
    "mydog.who_r_u()  "
   ]
  },
  {
   "cell_type": "code",
   "execution_count": 16,
   "id": "35928179",
   "metadata": {},
   "outputs": [
    {
     "name": "stdout",
     "output_type": "stream",
     "text": [
      "Iam eating\n"
     ]
    }
   ],
   "source": [
    "mydog.eat()#all my base class method will be available for the inherited child class"
   ]
  },
  {
   "cell_type": "markdown",
   "id": "92aa8e6d",
   "metadata": {},
   "source": [
    "Polymorphism : "
   ]
  }
 ],
 "metadata": {
  "kernelspec": {
   "display_name": "Python 3 (ipykernel)",
   "language": "python",
   "name": "python3"
  },
  "language_info": {
   "codemirror_mode": {
    "name": "ipython",
    "version": 3
   },
   "file_extension": ".py",
   "mimetype": "text/x-python",
   "name": "python",
   "nbconvert_exporter": "python",
   "pygments_lexer": "ipython3",
   "version": "3.9.12"
  }
 },
 "nbformat": 4,
 "nbformat_minor": 5
}
