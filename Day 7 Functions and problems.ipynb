{
 "cells": [
  {
   "cell_type": "markdown",
   "id": "47d6ed21",
   "metadata": {},
   "source": [
    "args - arguments *kwargs - key word arguments\n",
    "\n",
    "These are used for better understanding of code"
   ]
  },
  {
   "cell_type": "code",
   "execution_count": 1,
   "id": "b22e0482",
   "metadata": {},
   "outputs": [],
   "source": [
    "def my_sum(a,b,c):\n",
    "    return a+b+c"
   ]
  },
  {
   "cell_type": "code",
   "execution_count": 2,
   "id": "e87d7cb6",
   "metadata": {},
   "outputs": [
    {
     "data": {
      "text/plain": [
       "12"
      ]
     },
     "execution_count": 2,
     "metadata": {},
     "output_type": "execute_result"
    }
   ],
   "source": [
    "my_sum(2,4,6)"
   ]
  },
  {
   "cell_type": "code",
   "execution_count": 3,
   "id": "7dec350a",
   "metadata": {},
   "outputs": [
    {
     "ename": "TypeError",
     "evalue": "my_sum() takes 3 positional arguments but 4 were given",
     "output_type": "error",
     "traceback": [
      "\u001b[1;31m---------------------------------------------------------------------------\u001b[0m",
      "\u001b[1;31mTypeError\u001b[0m                                 Traceback (most recent call last)",
      "Input \u001b[1;32mIn [3]\u001b[0m, in \u001b[0;36m<cell line: 1>\u001b[1;34m()\u001b[0m\n\u001b[1;32m----> 1\u001b[0m \u001b[43mmy_sum\u001b[49m\u001b[43m(\u001b[49m\u001b[38;5;241;43m2\u001b[39;49m\u001b[43m,\u001b[49m\u001b[38;5;241;43m4\u001b[39;49m\u001b[43m,\u001b[49m\u001b[38;5;241;43m6\u001b[39;49m\u001b[43m,\u001b[49m\u001b[38;5;241;43m8\u001b[39;49m\u001b[43m)\u001b[49m\n",
      "\u001b[1;31mTypeError\u001b[0m: my_sum() takes 3 positional arguments but 4 were given"
     ]
    }
   ],
   "source": [
    "my_sum(2,4,6,8)"
   ]
  },
  {
   "cell_type": "code",
   "execution_count": 4,
   "id": "70414cf8",
   "metadata": {},
   "outputs": [],
   "source": [
    "def my_sum(*args):\n",
    "    return sum(args)"
   ]
  },
  {
   "cell_type": "code",
   "execution_count": 5,
   "id": "952fbbdb",
   "metadata": {},
   "outputs": [
    {
     "data": {
      "text/plain": [
       "28"
      ]
     },
     "execution_count": 5,
     "metadata": {},
     "output_type": "execute_result"
    }
   ],
   "source": [
    "my_sum(2,5,6,7,8)"
   ]
  },
  {
   "cell_type": "code",
   "execution_count": 13,
   "id": "517350fd",
   "metadata": {},
   "outputs": [],
   "source": [
    "def my_func(**kwargs):\n",
    "    print(kwargs)\n",
    "    if 'fruit' in kwargs:\n",
    "        print('My fruit is {}'.format(kwargs['fruit']))\n",
    "    else:\n",
    "        print('I did not find any fruit here')"
   ]
  },
  {
   "cell_type": "code",
   "execution_count": 14,
   "id": "6b0415f5",
   "metadata": {},
   "outputs": [
    {
     "name": "stdout",
     "output_type": "stream",
     "text": [
      "{'fruit': 'Apple', 'Vege': 'Tomato'}\n",
      "My fruit is Apple\n"
     ]
    }
   ],
   "source": [
    "my_func(fruit='Apple',Vege='Tomato')"
   ]
  },
  {
   "cell_type": "code",
   "execution_count": 19,
   "id": "8e2bf6c1",
   "metadata": {},
   "outputs": [],
   "source": [
    "def myfunc(*args,**kwargs):\n",
    "    print(args)\n",
    "    \n",
    "    print(kwargs)\n",
    "    \n",
    "    print('I want {} {}'.format(args[1],kwargs['food']))"
   ]
  },
  {
   "cell_type": "code",
   "execution_count": 20,
   "id": "5382c074",
   "metadata": {},
   "outputs": [
    {
     "name": "stdout",
     "output_type": "stream",
     "text": [
      "(10, 12, 14)\n",
      "{'fruit': 'apple', 'food': 'eggs'}\n",
      "I want 12 eggs\n"
     ]
    }
   ],
   "source": [
    "myfunc(10,12,14,fruit='apple',food='eggs')"
   ]
  },
  {
   "cell_type": "code",
   "execution_count": 3,
   "id": "fe23a2e5",
   "metadata": {},
   "outputs": [
    {
     "ename": "SyntaxError",
     "evalue": "invalid syntax (2916978564.py, line 5)",
     "output_type": "error",
     "traceback": [
      "\u001b[1;36m  Input \u001b[1;32mIn [3]\u001b[1;36m\u001b[0m\n\u001b[1;33m    i++\u001b[0m\n\u001b[1;37m       ^\u001b[0m\n\u001b[1;31mSyntaxError\u001b[0m\u001b[1;31m:\u001b[0m invalid syntax\n"
     ]
    }
   ],
   "source": [
    "def myfunc(*args):\n",
    "    for i in args:\n",
    "        if i%2==0:\n",
    "            return i\n",
    "        i++\n",
    "        else:\n",
    "            pass"
   ]
  },
  {
   "cell_type": "code",
   "execution_count": 2,
   "id": "f0a937c8",
   "metadata": {},
   "outputs": [
    {
     "data": {
      "text/plain": [
       "6"
      ]
     },
     "execution_count": 2,
     "metadata": {},
     "output_type": "execute_result"
    }
   ],
   "source": [
    "myfunc(1,6,3,4,7,9)"
   ]
  },
  {
   "cell_type": "code",
   "execution_count": 4,
   "id": "d937e484",
   "metadata": {},
   "outputs": [],
   "source": [
    "a=(1,2,3,4,5,6,7,8)"
   ]
  },
  {
   "cell_type": "code",
   "execution_count": 18,
   "id": "23246681",
   "metadata": {},
   "outputs": [],
   "source": [
    "def even_number(*args):\n",
    "    for i in args:\n",
    "        if i%2==0:\n",
    "            return i\n",
    "        else:\n",
    "            pass\n",
    "        "
   ]
  },
  {
   "cell_type": "code",
   "execution_count": 19,
   "id": "96f5a541",
   "metadata": {},
   "outputs": [
    {
     "data": {
      "text/plain": [
       "2"
      ]
     },
     "execution_count": 19,
     "metadata": {},
     "output_type": "execute_result"
    }
   ],
   "source": [
    "even_number(2,3,4,5,6)"
   ]
  },
  {
   "cell_type": "code",
   "execution_count": 21,
   "id": "99935391",
   "metadata": {},
   "outputs": [
    {
     "ename": "SyntaxError",
     "evalue": "invalid syntax (2010098353.py, line 1)",
     "output_type": "error",
     "traceback": [
      "\u001b[1;36m  Input \u001b[1;32mIn [21]\u001b[1;36m\u001b[0m\n\u001b[1;33m    for i range 10:\u001b[0m\n\u001b[1;37m          ^\u001b[0m\n\u001b[1;31mSyntaxError\u001b[0m\u001b[1;31m:\u001b[0m invalid syntax\n"
     ]
    }
   ],
   "source": [
    "for i range 10:\n",
    "    print i"
   ]
  },
  {
   "cell_type": "markdown",
   "id": "56fff5c6",
   "metadata": {},
   "source": [
    "Lambda Experssions Map and Filter"
   ]
  },
  {
   "cell_type": "code",
   "execution_count": 37,
   "id": "de2a969a",
   "metadata": {},
   "outputs": [],
   "source": [
    "n=[1,2,3,4,5]"
   ]
  },
  {
   "cell_type": "code",
   "execution_count": 38,
   "id": "ff61709e",
   "metadata": {},
   "outputs": [],
   "source": [
    "def square(n1):\n",
    "    return n1**2"
   ]
  },
  {
   "cell_type": "code",
   "execution_count": 34,
   "id": "80df829d",
   "metadata": {},
   "outputs": [
    {
     "name": "stdout",
     "output_type": "stream",
     "text": [
      "1\n",
      "4\n",
      "9\n",
      "16\n",
      "25\n"
     ]
    }
   ],
   "source": [
    "for i in map(square,n):\n",
    "    print(i)"
   ]
  },
  {
   "cell_type": "code",
   "execution_count": 40,
   "id": "83ab576c",
   "metadata": {},
   "outputs": [
    {
     "ename": "TypeError",
     "evalue": "'function' object is not iterable",
     "output_type": "error",
     "traceback": [
      "\u001b[1;31m---------------------------------------------------------------------------\u001b[0m",
      "\u001b[1;31mTypeError\u001b[0m                                 Traceback (most recent call last)",
      "Input \u001b[1;32mIn [40]\u001b[0m, in \u001b[0;36m<cell line: 1>\u001b[1;34m()\u001b[0m\n\u001b[1;32m----> 1\u001b[0m \u001b[38;5;28mlist\u001b[39m(\u001b[38;5;28;43mmap\u001b[39;49m\u001b[43m(\u001b[49m\u001b[43mn\u001b[49m\u001b[43m,\u001b[49m\u001b[43msquare\u001b[49m\u001b[43m)\u001b[49m)\n",
      "\u001b[1;31mTypeError\u001b[0m: 'function' object is not iterable"
     ]
    }
   ],
   "source": [
    "list(map(square,n))"
   ]
  },
  {
   "cell_type": "code",
   "execution_count": 8,
   "id": "9cb8fed4",
   "metadata": {},
   "outputs": [],
   "source": [
    "def even(l):\n",
    "    for i in l:\n",
    "        if len(l)%2==0:\n",
    "            return 'Even'\n",
    "        else:\n",
    "            return l[0]"
   ]
  },
  {
   "cell_type": "code",
   "execution_count": 9,
   "id": "7ace6d0f",
   "metadata": {},
   "outputs": [],
   "source": [
    "names=['Mounik','sai','site']"
   ]
  },
  {
   "cell_type": "code",
   "execution_count": 10,
   "id": "49569aa8",
   "metadata": {},
   "outputs": [
    {
     "data": {
      "text/plain": [
       "['Even', 's', 'Even']"
      ]
     },
     "execution_count": 10,
     "metadata": {},
     "output_type": "execute_result"
    }
   ],
   "source": [
    "list(map(even,names))"
   ]
  },
  {
   "cell_type": "code",
   "execution_count": 11,
   "id": "4be12d5b",
   "metadata": {},
   "outputs": [],
   "source": [
    "def check_even(n):\n",
    "    return n%2==0"
   ]
  },
  {
   "cell_type": "code",
   "execution_count": 12,
   "id": "91d6a8c5",
   "metadata": {},
   "outputs": [],
   "source": [
    "n=[1,2,3,4,5,6]"
   ]
  },
  {
   "cell_type": "code",
   "execution_count": 13,
   "id": "37c82f50",
   "metadata": {},
   "outputs": [
    {
     "data": {
      "text/plain": [
       "[2, 4, 6]"
      ]
     },
     "execution_count": 13,
     "metadata": {},
     "output_type": "execute_result"
    }
   ],
   "source": [
    "list(filter(check_even,n))"
   ]
  },
  {
   "cell_type": "code",
   "execution_count": 15,
   "id": "5a660afe",
   "metadata": {},
   "outputs": [
    {
     "name": "stdout",
     "output_type": "stream",
     "text": [
      "2\n",
      "4\n",
      "6\n"
     ]
    }
   ],
   "source": [
    "for i in filter(check_even,n):\n",
    "    print(i)"
   ]
  },
  {
   "cell_type": "code",
   "execution_count": 16,
   "id": "b9f10c87",
   "metadata": {},
   "outputs": [],
   "source": [
    "def squ(n):\n",
    "    return n**2"
   ]
  },
  {
   "cell_type": "code",
   "execution_count": 17,
   "id": "048309ff",
   "metadata": {},
   "outputs": [
    {
     "data": {
      "text/plain": [
       "9"
      ]
     },
     "execution_count": 17,
     "metadata": {},
     "output_type": "execute_result"
    }
   ],
   "source": [
    "squ(3)"
   ]
  },
  {
   "cell_type": "code",
   "execution_count": 19,
   "id": "65314b71",
   "metadata": {},
   "outputs": [],
   "source": [
    "s=lambda num:num**2"
   ]
  },
  {
   "cell_type": "code",
   "execution_count": 20,
   "id": "9b4e1bcf",
   "metadata": {},
   "outputs": [
    {
     "data": {
      "text/plain": [
       "25"
      ]
     },
     "execution_count": 20,
     "metadata": {},
     "output_type": "execute_result"
    }
   ],
   "source": [
    "s(5)"
   ]
  },
  {
   "cell_type": "code",
   "execution_count": 21,
   "id": "37b5bf0a",
   "metadata": {},
   "outputs": [
    {
     "data": {
      "text/plain": [
       "[1, 4, 9, 16, 25, 36]"
      ]
     },
     "execution_count": 21,
     "metadata": {},
     "output_type": "execute_result"
    }
   ],
   "source": [
    "list(map(lambda n:n**2,n))"
   ]
  },
  {
   "cell_type": "markdown",
   "id": "87d103e2",
   "metadata": {},
   "source": [
    "Nested Statements and Scopes"
   ]
  },
  {
   "cell_type": "code",
   "execution_count": 1,
   "id": "be7392aa",
   "metadata": {},
   "outputs": [],
   "source": [
    "x=25\n",
    "\n",
    "def printer(x):\n",
    "    x=50\n",
    "    return x"
   ]
  },
  {
   "cell_type": "code",
   "execution_count": 2,
   "id": "2c7e2d7f",
   "metadata": {},
   "outputs": [
    {
     "name": "stdout",
     "output_type": "stream",
     "text": [
      "25\n"
     ]
    }
   ],
   "source": [
    "print(x)"
   ]
  },
  {
   "cell_type": "code",
   "execution_count": 3,
   "id": "8fd1df6f",
   "metadata": {},
   "outputs": [
    {
     "name": "stdout",
     "output_type": "stream",
     "text": [
      "50\n"
     ]
    }
   ],
   "source": [
    "print(printer(x))"
   ]
  },
  {
   "cell_type": "markdown",
   "id": "586c8141",
   "metadata": {},
   "source": [
    "LEGB rule:\n",
    "\n",
    "L- Local :- Names assigned in any way within a funtion (def/lambda) and not declared in global functions\n",
    "\n",
    "E- Enclosing Function locals :- Names in the lovcal scope of any and all enclosing functions (def/lambda) , from inner to outer\n",
    "\n",
    "G- Global(Module) :- Names assigned at the top -level of a module file  or declared global in a def with in a file\n",
    "\n",
    "B- Built-in(Python) :- Names preassigned in the built-in names module: open,range,SyntaxError,---\n",
    "\n"
   ]
  },
  {
   "cell_type": "markdown",
   "id": "4abf3e64",
   "metadata": {},
   "source": [
    "example :\n",
    "local - lambda num: num**2"
   ]
  },
  {
   "cell_type": "code",
   "execution_count": 4,
   "id": "49674602",
   "metadata": {},
   "outputs": [],
   "source": [
    "name='This is a global string'\n",
    "def fuc1():\n",
    "    name='sammy'\n",
    "    def fuc2():\n",
    "        print('Hello'+ name)\n",
    "    fuc2()"
   ]
  },
  {
   "cell_type": "code",
   "execution_count": 5,
   "id": "0233dead",
   "metadata": {},
   "outputs": [
    {
     "name": "stdout",
     "output_type": "stream",
     "text": [
      "Hellosammy\n"
     ]
    }
   ],
   "source": [
    "fuc1()"
   ]
  },
  {
   "cell_type": "code",
   "execution_count": 6,
   "id": "10746287",
   "metadata": {},
   "outputs": [],
   "source": [
    "name='This is a global string'\n",
    "def fuc1():\n",
    "    #name='sammy'\n",
    "    def fuc2():\n",
    "        print('Hello'+ name)\n",
    "    fuc2()"
   ]
  },
  {
   "cell_type": "code",
   "execution_count": 7,
   "id": "cc91db9e",
   "metadata": {},
   "outputs": [
    {
     "name": "stdout",
     "output_type": "stream",
     "text": [
      "HelloThis is a global string\n"
     ]
    }
   ],
   "source": [
    "fuc1()"
   ]
  },
  {
   "cell_type": "code",
   "execution_count": 8,
   "id": "9eeb2589",
   "metadata": {},
   "outputs": [],
   "source": [
    "name='This is a global string'\n",
    "def fuc1():\n",
    "    #name='sammy'\n",
    "    def fuc2():\n",
    "        name =' Local string'\n",
    "        print('Hello'+ name)\n",
    "    fuc2()"
   ]
  },
  {
   "cell_type": "code",
   "execution_count": 10,
   "id": "0997ee70",
   "metadata": {},
   "outputs": [
    {
     "name": "stdout",
     "output_type": "stream",
     "text": [
      "Hello Local string\n"
     ]
    }
   ],
   "source": [
    "fuc1()"
   ]
  },
  {
   "cell_type": "code",
   "execution_count": 17,
   "id": "5f0016f7",
   "metadata": {},
   "outputs": [],
   "source": [
    "x=50\n",
    "def func(x):\n",
    "    print(f'x is {x}')\n",
    "    \n",
    "    x=200\n",
    "    print(f'I just locally changes x to {x}')"
   ]
  },
  {
   "cell_type": "code",
   "execution_count": 18,
   "id": "6a7a2f00",
   "metadata": {},
   "outputs": [
    {
     "name": "stdout",
     "output_type": "stream",
     "text": [
      "x is 50\n",
      "I just locally changes x to 200\n"
     ]
    }
   ],
   "source": [
    "func(x)"
   ]
  },
  {
   "cell_type": "code",
   "execution_count": 19,
   "id": "93e74843",
   "metadata": {},
   "outputs": [
    {
     "name": "stdout",
     "output_type": "stream",
     "text": [
      "50\n"
     ]
    }
   ],
   "source": [
    "print(x)"
   ]
  },
  {
   "cell_type": "code",
   "execution_count": 24,
   "id": "ec53bc2e",
   "metadata": {},
   "outputs": [],
   "source": [
    "x=50\n",
    "def func():\n",
    "    global x\n",
    "    print(f'x is {x}')\n",
    "    \n",
    "    x='new sytring'\n",
    "    print(f'I just locally changes x to {x}')"
   ]
  },
  {
   "cell_type": "code",
   "execution_count": 25,
   "id": "77724bf0",
   "metadata": {},
   "outputs": [
    {
     "name": "stdout",
     "output_type": "stream",
     "text": [
      "50\n"
     ]
    }
   ],
   "source": [
    "print(x)"
   ]
  },
  {
   "cell_type": "code",
   "execution_count": 26,
   "id": "509199c4",
   "metadata": {},
   "outputs": [
    {
     "name": "stdout",
     "output_type": "stream",
     "text": [
      "x is 50\n",
      "I just locally changes x to new sytring\n"
     ]
    }
   ],
   "source": [
    "func()"
   ]
  },
  {
   "cell_type": "code",
   "execution_count": 27,
   "id": "aeb32da8",
   "metadata": {},
   "outputs": [
    {
     "name": "stdout",
     "output_type": "stream",
     "text": [
      "new sytring\n"
     ]
    }
   ],
   "source": [
    "print(x)"
   ]
  },
  {
   "cell_type": "code",
   "execution_count": null,
   "id": "0bd60a5e",
   "metadata": {},
   "outputs": [],
   "source": []
  }
 ],
 "metadata": {
  "kernelspec": {
   "display_name": "Python 3 (ipykernel)",
   "language": "python",
   "name": "python3"
  },
  "language_info": {
   "codemirror_mode": {
    "name": "ipython",
    "version": 3
   },
   "file_extension": ".py",
   "mimetype": "text/x-python",
   "name": "python",
   "nbconvert_exporter": "python",
   "pygments_lexer": "ipython3",
   "version": "3.9.12"
  }
 },
 "nbformat": 4,
 "nbformat_minor": 5
}
