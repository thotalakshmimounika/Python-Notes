{
 "cells": [
  {
   "cell_type": "code",
   "execution_count": 2,
   "id": "9a36858f",
   "metadata": {},
   "outputs": [],
   "source": [
    "# DAY -1 PYTHON "
   ]
  },
  {
   "cell_type": "code",
   "execution_count": 1,
   "id": "b2cfa77c",
   "metadata": {},
   "outputs": [
    {
     "name": "stdout",
     "output_type": "stream",
     "text": [
      "hello\n"
     ]
    }
   ],
   "source": [
    "print ('hello')"
   ]
  },
  {
   "cell_type": "code",
   "execution_count": 2,
   "id": "48d5ca73",
   "metadata": {},
   "outputs": [
    {
     "name": "stdout",
     "output_type": "stream",
     "text": [
      "Hello Mounika\n"
     ]
    }
   ],
   "source": [
    "print('Hello Mounika')"
   ]
  },
  {
   "cell_type": "code",
   "execution_count": 1,
   "id": "e8b8ac8b",
   "metadata": {},
   "outputs": [
    {
     "data": {
      "text/plain": [
       "0.5"
      ]
     },
     "execution_count": 1,
     "metadata": {},
     "output_type": "execute_result"
    }
   ],
   "source": [
    "1/2"
   ]
  },
  {
   "cell_type": "code",
   "execution_count": 2,
   "id": "14cefb8d",
   "metadata": {},
   "outputs": [
    {
     "data": {
      "text/plain": [
       "6"
      ]
     },
     "execution_count": 2,
     "metadata": {},
     "output_type": "execute_result"
    }
   ],
   "source": [
    "2*3"
   ]
  },
  {
   "cell_type": "code",
   "execution_count": 3,
   "id": "d3aefc84",
   "metadata": {},
   "outputs": [
    {
     "data": {
      "text/plain": [
       "8"
      ]
     },
     "execution_count": 3,
     "metadata": {},
     "output_type": "execute_result"
    }
   ],
   "source": [
    "2**3"
   ]
  },
  {
   "cell_type": "code",
   "execution_count": 4,
   "id": "d3a297e8",
   "metadata": {},
   "outputs": [
    {
     "data": {
      "text/plain": [
       "1.75"
      ]
     },
     "execution_count": 4,
     "metadata": {},
     "output_type": "execute_result"
    }
   ],
   "source": [
    "7/4"
   ]
  },
  {
   "cell_type": "code",
   "execution_count": 5,
   "id": "f56c689a",
   "metadata": {},
   "outputs": [
    {
     "data": {
      "text/plain": [
       "3"
      ]
     },
     "execution_count": 5,
     "metadata": {},
     "output_type": "execute_result"
    }
   ],
   "source": [
    "7%4"
   ]
  },
  {
   "cell_type": "code",
   "execution_count": 6,
   "id": "d37e4af4",
   "metadata": {},
   "outputs": [],
   "source": [
    "a=3"
   ]
  },
  {
   "cell_type": "code",
   "execution_count": 7,
   "id": "ce6b0896",
   "metadata": {},
   "outputs": [
    {
     "data": {
      "text/plain": [
       "3"
      ]
     },
     "execution_count": 7,
     "metadata": {},
     "output_type": "execute_result"
    }
   ],
   "source": [
    "a"
   ]
  },
  {
   "cell_type": "code",
   "execution_count": 8,
   "id": "ccbe0106",
   "metadata": {},
   "outputs": [],
   "source": [
    "a=6"
   ]
  },
  {
   "cell_type": "code",
   "execution_count": 9,
   "id": "578f5792",
   "metadata": {},
   "outputs": [
    {
     "data": {
      "text/plain": [
       "6"
      ]
     },
     "execution_count": 9,
     "metadata": {},
     "output_type": "execute_result"
    }
   ],
   "source": [
    "a"
   ]
  },
  {
   "cell_type": "code",
   "execution_count": 12,
   "id": "38300f4f",
   "metadata": {},
   "outputs": [],
   "source": [
    "a=a+a"
   ]
  },
  {
   "cell_type": "code",
   "execution_count": 13,
   "id": "011cc544",
   "metadata": {},
   "outputs": [
    {
     "data": {
      "text/plain": [
       "24"
      ]
     },
     "execution_count": 13,
     "metadata": {},
     "output_type": "execute_result"
    }
   ],
   "source": [
    "a"
   ]
  },
  {
   "cell_type": "code",
   "execution_count": 14,
   "id": "a8cf178d",
   "metadata": {},
   "outputs": [
    {
     "data": {
      "text/plain": [
       "int"
      ]
     },
     "execution_count": 14,
     "metadata": {},
     "output_type": "execute_result"
    }
   ],
   "source": [
    "type(a)"
   ]
  },
  {
   "cell_type": "code",
   "execution_count": 15,
   "id": "e77a56fc",
   "metadata": {},
   "outputs": [],
   "source": [
    "a=57.0"
   ]
  },
  {
   "cell_type": "code",
   "execution_count": 16,
   "id": "aa884e68",
   "metadata": {},
   "outputs": [
    {
     "data": {
      "text/plain": [
       "57.0"
      ]
     },
     "execution_count": 16,
     "metadata": {},
     "output_type": "execute_result"
    }
   ],
   "source": [
    "a"
   ]
  },
  {
   "cell_type": "code",
   "execution_count": 17,
   "id": "0784f9fc",
   "metadata": {},
   "outputs": [
    {
     "data": {
      "text/plain": [
       "float"
      ]
     },
     "execution_count": 17,
     "metadata": {},
     "output_type": "execute_result"
    }
   ],
   "source": [
    "type(a)"
   ]
  },
  {
   "cell_type": "code",
   "execution_count": 18,
   "id": "345b92a6",
   "metadata": {},
   "outputs": [
    {
     "data": {
      "text/plain": [
       "'hell0'"
      ]
     },
     "execution_count": 18,
     "metadata": {},
     "output_type": "execute_result"
    }
   ],
   "source": [
    "'hell0'"
   ]
  },
  {
   "cell_type": "code",
   "execution_count": 19,
   "id": "67ecd0a6",
   "metadata": {},
   "outputs": [
    {
     "data": {
      "text/plain": [
       "'Hello '"
      ]
     },
     "execution_count": 19,
     "metadata": {},
     "output_type": "execute_result"
    }
   ],
   "source": [
    "\"Hello \""
   ]
  },
  {
   "cell_type": "code",
   "execution_count": 20,
   "id": "db8032a9",
   "metadata": {},
   "outputs": [
    {
     "ename": "SyntaxError",
     "evalue": "invalid syntax (1893900029.py, line 1)",
     "output_type": "error",
     "traceback": [
      "\u001b[1;36m  Input \u001b[1;32mIn [20]\u001b[1;36m\u001b[0m\n\u001b[1;33m    'I'm good'\u001b[0m\n\u001b[1;37m       ^\u001b[0m\n\u001b[1;31mSyntaxError\u001b[0m\u001b[1;31m:\u001b[0m invalid syntax\n"
     ]
    }
   ],
   "source": [
    "'I'm good'"
   ]
  },
  {
   "cell_type": "code",
   "execution_count": 21,
   "id": "e4ee8377",
   "metadata": {},
   "outputs": [
    {
     "data": {
      "text/plain": [
       "\"I'm good\""
      ]
     },
     "execution_count": 21,
     "metadata": {},
     "output_type": "execute_result"
    }
   ],
   "source": [
    "\"I'm good\""
   ]
  },
  {
   "cell_type": "code",
   "execution_count": 22,
   "id": "e10b701f",
   "metadata": {},
   "outputs": [
    {
     "data": {
      "text/plain": [
       "'Hello'"
      ]
     },
     "execution_count": 22,
     "metadata": {},
     "output_type": "execute_result"
    }
   ],
   "source": [
    "\"Hi\"\n",
    "\"Hello\""
   ]
  },
  {
   "cell_type": "code",
   "execution_count": 23,
   "id": "86b320b5",
   "metadata": {},
   "outputs": [
    {
     "name": "stdout",
     "output_type": "stream",
     "text": [
      "hi\n",
      "Hello\n"
     ]
    }
   ],
   "source": [
    "print(\"hi\")\n",
    "print(\"Hello\")"
   ]
  },
  {
   "cell_type": "code",
   "execution_count": 24,
   "id": "be77b1cc",
   "metadata": {},
   "outputs": [
    {
     "name": "stdout",
     "output_type": "stream",
     "text": [
      "hi\n",
      "world\n"
     ]
    }
   ],
   "source": [
    "print(\"hi\\nworld\")"
   ]
  },
  {
   "cell_type": "code",
   "execution_count": 25,
   "id": "45e5908a",
   "metadata": {},
   "outputs": [
    {
     "data": {
      "text/plain": [
       "4"
      ]
     },
     "execution_count": 25,
     "metadata": {},
     "output_type": "execute_result"
    }
   ],
   "source": [
    "len(\"i am\")"
   ]
  },
  {
   "cell_type": "code",
   "execution_count": 26,
   "id": "a9d0af66",
   "metadata": {},
   "outputs": [
    {
     "name": "stdout",
     "output_type": "stream",
     "text": [
      "hi \tworld\n"
     ]
    }
   ],
   "source": [
    "print(\"hi \\tworld\")"
   ]
  },
  {
   "cell_type": "code",
   "execution_count": 29,
   "id": "b93b2ec7",
   "metadata": {},
   "outputs": [],
   "source": [
    "a =\"Hello Mounika\""
   ]
  },
  {
   "cell_type": "code",
   "execution_count": 30,
   "id": "6bffe450",
   "metadata": {},
   "outputs": [
    {
     "data": {
      "text/plain": [
       "'Hello Mounika'"
      ]
     },
     "execution_count": 30,
     "metadata": {},
     "output_type": "execute_result"
    }
   ],
   "source": [
    "a"
   ]
  },
  {
   "cell_type": "code",
   "execution_count": 31,
   "id": "a12e8a28",
   "metadata": {},
   "outputs": [
    {
     "data": {
      "text/plain": [
       "'H'"
      ]
     },
     "execution_count": 31,
     "metadata": {},
     "output_type": "execute_result"
    }
   ],
   "source": [
    "a[0]"
   ]
  },
  {
   "cell_type": "code",
   "execution_count": 32,
   "id": "17d67609",
   "metadata": {},
   "outputs": [
    {
     "data": {
      "text/plain": [
       "'u'"
      ]
     },
     "execution_count": 32,
     "metadata": {},
     "output_type": "execute_result"
    }
   ],
   "source": [
    "a[8]"
   ]
  },
  {
   "cell_type": "code",
   "execution_count": 33,
   "id": "cdd3395d",
   "metadata": {},
   "outputs": [
    {
     "data": {
      "text/plain": [
       "'k'"
      ]
     },
     "execution_count": 33,
     "metadata": {},
     "output_type": "execute_result"
    }
   ],
   "source": [
    "a[-2]"
   ]
  },
  {
   "cell_type": "code",
   "execution_count": 34,
   "id": "8a1ad91f",
   "metadata": {},
   "outputs": [],
   "source": [
    "a='abcdefghikj'"
   ]
  },
  {
   "cell_type": "code",
   "execution_count": 35,
   "id": "242574e8",
   "metadata": {},
   "outputs": [
    {
     "data": {
      "text/plain": [
       "'abcdefghikj'"
      ]
     },
     "execution_count": 35,
     "metadata": {},
     "output_type": "execute_result"
    }
   ],
   "source": [
    "a"
   ]
  },
  {
   "cell_type": "code",
   "execution_count": 36,
   "id": "cd51669d",
   "metadata": {},
   "outputs": [
    {
     "data": {
      "text/plain": [
       "'cdefghikj'"
      ]
     },
     "execution_count": 36,
     "metadata": {},
     "output_type": "execute_result"
    }
   ],
   "source": [
    "a[2:]"
   ]
  },
  {
   "cell_type": "code",
   "execution_count": 37,
   "id": "e3122570",
   "metadata": {},
   "outputs": [
    {
     "data": {
      "text/plain": [
       "'abcd'"
      ]
     },
     "execution_count": 37,
     "metadata": {},
     "output_type": "execute_result"
    }
   ],
   "source": [
    "a[:4]"
   ]
  },
  {
   "cell_type": "code",
   "execution_count": 38,
   "id": "07f73a03",
   "metadata": {},
   "outputs": [
    {
     "data": {
      "text/plain": [
       "'cde'"
      ]
     },
     "execution_count": 38,
     "metadata": {},
     "output_type": "execute_result"
    }
   ],
   "source": [
    "a[2:5]"
   ]
  },
  {
   "cell_type": "code",
   "execution_count": 39,
   "id": "6685375d",
   "metadata": {},
   "outputs": [
    {
     "data": {
      "text/plain": [
       "'abcdefghikj'"
      ]
     },
     "execution_count": 39,
     "metadata": {},
     "output_type": "execute_result"
    }
   ],
   "source": [
    "a[::]"
   ]
  },
  {
   "cell_type": "code",
   "execution_count": 40,
   "id": "3341346a",
   "metadata": {},
   "outputs": [
    {
     "data": {
      "text/plain": [
       "'acegij'"
      ]
     },
     "execution_count": 40,
     "metadata": {},
     "output_type": "execute_result"
    }
   ],
   "source": [
    "a[::2]"
   ]
  },
  {
   "cell_type": "code",
   "execution_count": 41,
   "id": "66b6d1e0",
   "metadata": {},
   "outputs": [
    {
     "data": {
      "text/plain": [
       "'jkihgfedcba'"
      ]
     },
     "execution_count": 41,
     "metadata": {},
     "output_type": "execute_result"
    }
   ],
   "source": [
    "a[::-1]"
   ]
  },
  {
   "cell_type": "markdown",
   "id": "f53eccfb",
   "metadata": {},
   "source": [
    "Strings are immutable"
   ]
  },
  {
   "cell_type": "code",
   "execution_count": 42,
   "id": "5e58471e",
   "metadata": {},
   "outputs": [],
   "source": [
    "name =\"Mounika\""
   ]
  },
  {
   "cell_type": "code",
   "execution_count": 43,
   "id": "fed07758",
   "metadata": {},
   "outputs": [
    {
     "data": {
      "text/plain": [
       "'Mounika'"
      ]
     },
     "execution_count": 43,
     "metadata": {},
     "output_type": "execute_result"
    }
   ],
   "source": [
    "name#change name as Pounika"
   ]
  },
  {
   "cell_type": "code",
   "execution_count": 44,
   "id": "b36b0af6",
   "metadata": {},
   "outputs": [
    {
     "ename": "TypeError",
     "evalue": "'str' object does not support item assignment",
     "output_type": "error",
     "traceback": [
      "\u001b[1;31m---------------------------------------------------------------------------\u001b[0m",
      "\u001b[1;31mTypeError\u001b[0m                                 Traceback (most recent call last)",
      "Input \u001b[1;32mIn [44]\u001b[0m, in \u001b[0;36m<cell line: 1>\u001b[1;34m()\u001b[0m\n\u001b[1;32m----> 1\u001b[0m name[\u001b[38;5;241m0\u001b[39m]\u001b[38;5;241m=\u001b[39m\u001b[38;5;124m'\u001b[39m\u001b[38;5;124mP\u001b[39m\u001b[38;5;124m'\u001b[39m\n",
      "\u001b[1;31mTypeError\u001b[0m: 'str' object does not support item assignment"
     ]
    }
   ],
   "source": [
    "name[0]='P'"
   ]
  },
  {
   "cell_type": "code",
   "execution_count": 45,
   "id": "c32cf4cf",
   "metadata": {},
   "outputs": [],
   "source": [
    "last_letters= name[1:]"
   ]
  },
  {
   "cell_type": "code",
   "execution_count": 46,
   "id": "fa7dbc09",
   "metadata": {},
   "outputs": [
    {
     "data": {
      "text/plain": [
       "'ounika'"
      ]
     },
     "execution_count": 46,
     "metadata": {},
     "output_type": "execute_result"
    }
   ],
   "source": [
    "last_letters"
   ]
  },
  {
   "cell_type": "code",
   "execution_count": 47,
   "id": "40c334d8",
   "metadata": {},
   "outputs": [
    {
     "data": {
      "text/plain": [
       "'Pounika'"
      ]
     },
     "execution_count": 47,
     "metadata": {},
     "output_type": "execute_result"
    }
   ],
   "source": [
    "'P' + last_letters #string concatination"
   ]
  },
  {
   "cell_type": "code",
   "execution_count": 48,
   "id": "21d4bdf2",
   "metadata": {},
   "outputs": [],
   "source": [
    "a= \"Hi\""
   ]
  },
  {
   "cell_type": "code",
   "execution_count": 49,
   "id": "8f11e5f2",
   "metadata": {},
   "outputs": [],
   "source": [
    "a=a+\" Mounika\" # string concatination"
   ]
  },
  {
   "cell_type": "code",
   "execution_count": 50,
   "id": "7a200622",
   "metadata": {},
   "outputs": [
    {
     "data": {
      "text/plain": [
       "'Hi Mounika'"
      ]
     },
     "execution_count": 50,
     "metadata": {},
     "output_type": "execute_result"
    }
   ],
   "source": [
    "a"
   ]
  },
  {
   "cell_type": "code",
   "execution_count": 51,
   "id": "ba5c482f",
   "metadata": {},
   "outputs": [],
   "source": [
    "b='z'"
   ]
  },
  {
   "cell_type": "code",
   "execution_count": 52,
   "id": "cdcd58e8",
   "metadata": {},
   "outputs": [
    {
     "data": {
      "text/plain": [
       "'zzzzzzzzzz'"
      ]
     },
     "execution_count": 52,
     "metadata": {},
     "output_type": "execute_result"
    }
   ],
   "source": [
    "b*10"
   ]
  },
  {
   "cell_type": "code",
   "execution_count": 53,
   "id": "73ea8d99",
   "metadata": {},
   "outputs": [
    {
     "ename": "TypeError",
     "evalue": "unsupported operand type(s) for +: 'int' and 'str'",
     "output_type": "error",
     "traceback": [
      "\u001b[1;31m---------------------------------------------------------------------------\u001b[0m",
      "\u001b[1;31mTypeError\u001b[0m                                 Traceback (most recent call last)",
      "Input \u001b[1;32mIn [53]\u001b[0m, in \u001b[0;36m<cell line: 1>\u001b[1;34m()\u001b[0m\n\u001b[1;32m----> 1\u001b[0m \u001b[38;5;241;43m2\u001b[39;49m\u001b[38;5;241;43m+\u001b[39;49m\u001b[38;5;124;43m'\u001b[39;49m\u001b[38;5;124;43m3\u001b[39;49m\u001b[38;5;124;43m'\u001b[39;49m\n",
      "\u001b[1;31mTypeError\u001b[0m: unsupported operand type(s) for +: 'int' and 'str'"
     ]
    }
   ],
   "source": [
    "2+'3'"
   ]
  },
  {
   "cell_type": "code",
   "execution_count": 54,
   "id": "148e29a3",
   "metadata": {},
   "outputs": [
    {
     "data": {
      "text/plain": [
       "'23'"
      ]
     },
     "execution_count": 54,
     "metadata": {},
     "output_type": "execute_result"
    }
   ],
   "source": [
    "'2'+'3'"
   ]
  },
  {
   "cell_type": "code",
   "execution_count": 55,
   "id": "6050e81d",
   "metadata": {},
   "outputs": [
    {
     "data": {
      "text/plain": [
       "'Hi Mounika'"
      ]
     },
     "execution_count": 55,
     "metadata": {},
     "output_type": "execute_result"
    }
   ],
   "source": [
    "a"
   ]
  },
  {
   "cell_type": "code",
   "execution_count": 56,
   "id": "558b742e",
   "metadata": {},
   "outputs": [
    {
     "data": {
      "text/plain": [
       "'HI MOUNIKA'"
      ]
     },
     "execution_count": 56,
     "metadata": {},
     "output_type": "execute_result"
    }
   ],
   "source": [
    "a.upper()"
   ]
  },
  {
   "cell_type": "code",
   "execution_count": 57,
   "id": "b75c1cd2",
   "metadata": {},
   "outputs": [
    {
     "data": {
      "text/plain": [
       "'Hi Mounika'"
      ]
     },
     "execution_count": 57,
     "metadata": {},
     "output_type": "execute_result"
    }
   ],
   "source": [
    "a"
   ]
  },
  {
   "cell_type": "code",
   "execution_count": 58,
   "id": "a8910780",
   "metadata": {},
   "outputs": [
    {
     "data": {
      "text/plain": [
       "'hi mounika'"
      ]
     },
     "execution_count": 58,
     "metadata": {},
     "output_type": "execute_result"
    }
   ],
   "source": [
    "a.lower()"
   ]
  },
  {
   "cell_type": "code",
   "execution_count": 59,
   "id": "7b1bebda",
   "metadata": {},
   "outputs": [
    {
     "data": {
      "text/plain": [
       "['Hi', 'Mounika']"
      ]
     },
     "execution_count": 59,
     "metadata": {},
     "output_type": "execute_result"
    }
   ],
   "source": [
    "a.split()"
   ]
  },
  {
   "cell_type": "code",
   "execution_count": 60,
   "id": "647fa09f",
   "metadata": {},
   "outputs": [],
   "source": [
    "a=\"Hi this is string\""
   ]
  },
  {
   "cell_type": "code",
   "execution_count": 61,
   "id": "e6585d29",
   "metadata": {},
   "outputs": [
    {
     "data": {
      "text/plain": [
       "['Hi', 'this', 'is', 'string']"
      ]
     },
     "execution_count": 61,
     "metadata": {},
     "output_type": "execute_result"
    }
   ],
   "source": [
    "a.split()  # string to list"
   ]
  },
  {
   "cell_type": "code",
   "execution_count": 63,
   "id": "4f18e32a",
   "metadata": {},
   "outputs": [
    {
     "data": {
      "text/plain": [
       "['H', ' th', 's ', 's str', 'ng']"
      ]
     },
     "execution_count": 63,
     "metadata": {},
     "output_type": "execute_result"
    }
   ],
   "source": [
    "a.split('i')"
   ]
  },
  {
   "cell_type": "markdown",
   "id": "10d1b1f2",
   "metadata": {},
   "source": [
    "Strings Insertion by .format()"
   ]
  },
  {
   "cell_type": "code",
   "execution_count": 1,
   "id": "f49ad161",
   "metadata": {},
   "outputs": [
    {
     "name": "stdout",
     "output_type": "stream",
     "text": [
      "this is a string Inserter\n"
     ]
    }
   ],
   "source": [
    "print(\"this is a string {}\".format(\"Inserter\"))"
   ]
  },
  {
   "cell_type": "code",
   "execution_count": 3,
   "id": "48563478",
   "metadata": {},
   "outputs": [
    {
     "name": "stdout",
     "output_type": "stream",
     "text": [
      "the fox brown quick\n"
     ]
    }
   ],
   "source": [
    "print('the {} {} {}'.format('fox','brown','quick'))"
   ]
  },
  {
   "cell_type": "code",
   "execution_count": 4,
   "id": "4313251c",
   "metadata": {},
   "outputs": [
    {
     "name": "stdout",
     "output_type": "stream",
     "text": [
      "the quick brown fox\n"
     ]
    }
   ],
   "source": [
    "print('the {2} {1} {0}'.format('fox','brown','quick'))"
   ]
  },
  {
   "cell_type": "code",
   "execution_count": 5,
   "id": "d479885a",
   "metadata": {},
   "outputs": [
    {
     "name": "stdout",
     "output_type": "stream",
     "text": [
      "the quick brown fox\n"
     ]
    }
   ],
   "source": [
    "print('the {q} {b} {f}'.format(f='fox',b='brown',q='quick')) # easy way"
   ]
  },
  {
   "cell_type": "code",
   "execution_count": 6,
   "id": "a9e343dd",
   "metadata": {},
   "outputs": [
    {
     "name": "stdout",
     "output_type": "stream",
     "text": [
      "the fox fox fox\n"
     ]
    }
   ],
   "source": [
    "print('the {f} {f} {f}'.format(f='fox',b='brown',q='quick')) "
   ]
  },
  {
   "cell_type": "markdown",
   "id": "dc8b9888",
   "metadata": {},
   "source": [
    "Float formatting method \"{value:width.precision f}\""
   ]
  },
  {
   "cell_type": "code",
   "execution_count": 9,
   "id": "cd8ada2d",
   "metadata": {},
   "outputs": [],
   "source": [
    "res=100/777"
   ]
  },
  {
   "cell_type": "code",
   "execution_count": 10,
   "id": "e9e39152",
   "metadata": {},
   "outputs": [
    {
     "data": {
      "text/plain": [
       "0.1287001287001287"
      ]
     },
     "execution_count": 10,
     "metadata": {},
     "output_type": "execute_result"
    }
   ],
   "source": [
    "res"
   ]
  },
  {
   "cell_type": "code",
   "execution_count": 13,
   "id": "21ff47a4",
   "metadata": {},
   "outputs": [
    {
     "name": "stdout",
     "output_type": "stream",
     "text": [
      "the result is 0.1287001287001287\n"
     ]
    }
   ],
   "source": [
    "print(\"the result is {r}\".format(r=res))"
   ]
  },
  {
   "cell_type": "code",
   "execution_count": 14,
   "id": "7c3317c8",
   "metadata": {},
   "outputs": [
    {
     "name": "stdout",
     "output_type": "stream",
     "text": [
      "the result is 0.129\n"
     ]
    }
   ],
   "source": [
    "print(\"the result is {r:1.3f}\".format(r=res))"
   ]
  },
  {
   "cell_type": "markdown",
   "id": "2dfb5dfe",
   "metadata": {},
   "source": [
    "Format string Literals"
   ]
  },
  {
   "cell_type": "code",
   "execution_count": 15,
   "id": "fc70db7e",
   "metadata": {},
   "outputs": [],
   "source": [
    "name=\"Mounika\""
   ]
  },
  {
   "cell_type": "code",
   "execution_count": 16,
   "id": "a1e39a07",
   "metadata": {},
   "outputs": [
    {
     "name": "stdout",
     "output_type": "stream",
     "text": [
      "my name is Mounika\n"
     ]
    }
   ],
   "source": [
    "print (f\"my name is {name}\")"
   ]
  },
  {
   "cell_type": "code",
   "execution_count": 17,
   "id": "adcacefe",
   "metadata": {},
   "outputs": [],
   "source": [
    "name='Sai'\n",
    "age=20"
   ]
  },
  {
   "cell_type": "code",
   "execution_count": 18,
   "id": "491602e6",
   "metadata": {},
   "outputs": [
    {
     "name": "stdout",
     "output_type": "stream",
     "text": [
      "Sai is 20 years old\n"
     ]
    }
   ],
   "source": [
    "print(f'{name} is {age} years old') #interpollation"
   ]
  },
  {
   "cell_type": "markdown",
   "id": "b7eec367",
   "metadata": {},
   "source": [
    "LISTS"
   ]
  },
  {
   "cell_type": "code",
   "execution_count": 20,
   "id": "509d7dea",
   "metadata": {},
   "outputs": [],
   "source": [
    "my_list=[\"mounika\",23,56.8,(1,3,6)]"
   ]
  },
  {
   "cell_type": "code",
   "execution_count": 21,
   "id": "0a3bf357",
   "metadata": {},
   "outputs": [
    {
     "data": {
      "text/plain": [
       "4"
      ]
     },
     "execution_count": 21,
     "metadata": {},
     "output_type": "execute_result"
    }
   ],
   "source": [
    "len(my_list)"
   ]
  },
  {
   "cell_type": "code",
   "execution_count": 22,
   "id": "a209bb44",
   "metadata": {},
   "outputs": [
    {
     "data": {
      "text/plain": [
       "'mounika'"
      ]
     },
     "execution_count": 22,
     "metadata": {},
     "output_type": "execute_result"
    }
   ],
   "source": [
    "my_list[0]"
   ]
  },
  {
   "cell_type": "code",
   "execution_count": 23,
   "id": "ab25aefc",
   "metadata": {},
   "outputs": [
    {
     "data": {
      "text/plain": [
       "(1, 3, 6)"
      ]
     },
     "execution_count": 23,
     "metadata": {},
     "output_type": "execute_result"
    }
   ],
   "source": [
    "my_list[3]"
   ]
  },
  {
   "cell_type": "code",
   "execution_count": 24,
   "id": "3b8dcdc6",
   "metadata": {},
   "outputs": [
    {
     "data": {
      "text/plain": [
       "[]"
      ]
     },
     "execution_count": 24,
     "metadata": {},
     "output_type": "execute_result"
    }
   ],
   "source": [
    "my_list[3:1:]"
   ]
  },
  {
   "cell_type": "code",
   "execution_count": 25,
   "id": "21f5031e",
   "metadata": {},
   "outputs": [
    {
     "data": {
      "text/plain": [
       "[(1, 3, 6)]"
      ]
     },
     "execution_count": 25,
     "metadata": {},
     "output_type": "execute_result"
    }
   ],
   "source": [
    "my_list[3:]"
   ]
  },
  {
   "cell_type": "code",
   "execution_count": 28,
   "id": "6f0290bc",
   "metadata": {},
   "outputs": [],
   "source": [
    "another_list=[\"hello\",76]"
   ]
  },
  {
   "cell_type": "code",
   "execution_count": 29,
   "id": "9a46279f",
   "metadata": {},
   "outputs": [],
   "source": [
    "new_list=my_list+another_list"
   ]
  },
  {
   "cell_type": "code",
   "execution_count": 30,
   "id": "cec7ddea",
   "metadata": {},
   "outputs": [
    {
     "data": {
      "text/plain": [
       "['mounika', 23, 56.8, (1, 3, 6), 'hello', 76]"
      ]
     },
     "execution_count": 30,
     "metadata": {},
     "output_type": "execute_result"
    }
   ],
   "source": [
    "new_list"
   ]
  },
  {
   "cell_type": "code",
   "execution_count": 31,
   "id": "df2d74f9",
   "metadata": {},
   "outputs": [],
   "source": [
    "new_list[0]=\"Hi Mounika\""
   ]
  },
  {
   "cell_type": "code",
   "execution_count": 33,
   "id": "e887669e",
   "metadata": {},
   "outputs": [
    {
     "data": {
      "text/plain": [
       "['Hi Mounika', 23, 56.8, (1, 3, 6), 'hello', 76]"
      ]
     },
     "execution_count": 33,
     "metadata": {},
     "output_type": "execute_result"
    }
   ],
   "source": [
    "new_list"
   ]
  },
  {
   "cell_type": "code",
   "execution_count": 34,
   "id": "e16ed138",
   "metadata": {},
   "outputs": [],
   "source": [
    "new_list.append('today')"
   ]
  },
  {
   "cell_type": "code",
   "execution_count": 35,
   "id": "1f899490",
   "metadata": {},
   "outputs": [
    {
     "data": {
      "text/plain": [
       "['Hi Mounika', 23, 56.8, (1, 3, 6), 'hello', 76, 'today']"
      ]
     },
     "execution_count": 35,
     "metadata": {},
     "output_type": "execute_result"
    }
   ],
   "source": [
    "new_list"
   ]
  },
  {
   "cell_type": "code",
   "execution_count": 36,
   "id": "de205f39",
   "metadata": {},
   "outputs": [
    {
     "data": {
      "text/plain": [
       "'today'"
      ]
     },
     "execution_count": 36,
     "metadata": {},
     "output_type": "execute_result"
    }
   ],
   "source": [
    "new_list.pop()"
   ]
  },
  {
   "cell_type": "code",
   "execution_count": 37,
   "id": "f23cddc0",
   "metadata": {},
   "outputs": [
    {
     "data": {
      "text/plain": [
       "'Hi Mounika'"
      ]
     },
     "execution_count": 37,
     "metadata": {},
     "output_type": "execute_result"
    }
   ],
   "source": [
    "new_list.pop(0)"
   ]
  },
  {
   "cell_type": "code",
   "execution_count": 38,
   "id": "30925f0e",
   "metadata": {},
   "outputs": [
    {
     "data": {
      "text/plain": [
       "[23, 56.8, (1, 3, 6), 'hello', 76]"
      ]
     },
     "execution_count": 38,
     "metadata": {},
     "output_type": "execute_result"
    }
   ],
   "source": [
    "new_list"
   ]
  },
  {
   "cell_type": "code",
   "execution_count": 39,
   "id": "dade8731",
   "metadata": {},
   "outputs": [
    {
     "data": {
      "text/plain": [
       "76"
      ]
     },
     "execution_count": 39,
     "metadata": {},
     "output_type": "execute_result"
    }
   ],
   "source": [
    "new_list.pop(-1)"
   ]
  },
  {
   "cell_type": "code",
   "execution_count": 40,
   "id": "9899ef9c",
   "metadata": {},
   "outputs": [],
   "source": [
    "list_1=['g','i','a','x','b']\n",
    "list_2=[5,7,9,2,4,1]"
   ]
  },
  {
   "cell_type": "code",
   "execution_count": 45,
   "id": "db42ca28",
   "metadata": {},
   "outputs": [],
   "source": [
    "list_1.sort() # sort methods does not gives any output\n",
    "list_2.sort()"
   ]
  },
  {
   "cell_type": "code",
   "execution_count": 43,
   "id": "520bf155",
   "metadata": {},
   "outputs": [
    {
     "data": {
      "text/plain": [
       "['a', 'b', 'g', 'i', 'x']"
      ]
     },
     "execution_count": 43,
     "metadata": {},
     "output_type": "execute_result"
    }
   ],
   "source": [
    "list_1"
   ]
  },
  {
   "cell_type": "code",
   "execution_count": 46,
   "id": "80f297ce",
   "metadata": {},
   "outputs": [
    {
     "data": {
      "text/plain": [
       "[1, 2, 4, 5, 7, 9]"
      ]
     },
     "execution_count": 46,
     "metadata": {},
     "output_type": "execute_result"
    }
   ],
   "source": [
    "list_2"
   ]
  },
  {
   "cell_type": "code",
   "execution_count": 47,
   "id": "18f8c317",
   "metadata": {},
   "outputs": [],
   "source": [
    "a=list_1"
   ]
  },
  {
   "cell_type": "code",
   "execution_count": 48,
   "id": "b17b1820",
   "metadata": {},
   "outputs": [
    {
     "data": {
      "text/plain": [
       "['a', 'b', 'g', 'i', 'x']"
      ]
     },
     "execution_count": 48,
     "metadata": {},
     "output_type": "execute_result"
    }
   ],
   "source": [
    "a"
   ]
  },
  {
   "cell_type": "code",
   "execution_count": 49,
   "id": "3ac7cdfc",
   "metadata": {},
   "outputs": [],
   "source": [
    "list_1.reverse()"
   ]
  },
  {
   "cell_type": "code",
   "execution_count": 50,
   "id": "2dd616ec",
   "metadata": {},
   "outputs": [
    {
     "data": {
      "text/plain": [
       "['x', 'i', 'g', 'b', 'a']"
      ]
     },
     "execution_count": 50,
     "metadata": {},
     "output_type": "execute_result"
    }
   ],
   "source": [
    "list_1"
   ]
  },
  {
   "cell_type": "code",
   "execution_count": 51,
   "id": "59ace4f4",
   "metadata": {},
   "outputs": [
    {
     "ename": "NameError",
     "evalue": "name 'hi' is not defined",
     "output_type": "error",
     "traceback": [
      "\u001b[1;31m---------------------------------------------------------------------------\u001b[0m",
      "\u001b[1;31mNameError\u001b[0m                                 Traceback (most recent call last)",
      "Input \u001b[1;32mIn [51]\u001b[0m, in \u001b[0;36m<cell line: 1>\u001b[1;34m()\u001b[0m\n\u001b[1;32m----> 1\u001b[0m [\u001b[43mhi\u001b[49m, \u001b[38;5;241m1\u001b[39m, \u001b[38;5;241m123.7\u001b[39m]\n",
      "\u001b[1;31mNameError\u001b[0m: name 'hi' is not defined"
     ]
    }
   ],
   "source": [
    "li[hi, 1, 123.7]"
   ]
  },
  {
   "cell_type": "code",
   "execution_count": null,
   "id": "f90cf51c",
   "metadata": {},
   "outputs": [],
   "source": []
  }
 ],
 "metadata": {
  "kernelspec": {
   "display_name": "Python 3 (ipykernel)",
   "language": "python",
   "name": "python3"
  },
  "language_info": {
   "codemirror_mode": {
    "name": "ipython",
    "version": 3
   },
   "file_extension": ".py",
   "mimetype": "text/x-python",
   "name": "python",
   "nbconvert_exporter": "python",
   "pygments_lexer": "ipython3",
   "version": "3.9.12"
  }
 },
 "nbformat": 4,
 "nbformat_minor": 5
}
