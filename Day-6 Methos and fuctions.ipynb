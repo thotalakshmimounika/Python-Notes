{
 "cells": [
  {
   "cell_type": "markdown",
   "id": "0e771a0f",
   "metadata": {},
   "source": [
    "Methods are built in objects . To see all the methods enter ur (list_name.tab). To see what the methos is enter the method name- shift +tab"
   ]
  },
  {
   "cell_type": "code",
   "execution_count": 1,
   "id": "9f7b1ddb",
   "metadata": {},
   "outputs": [],
   "source": [
    "l=[1,2,3]"
   ]
  },
  {
   "cell_type": "code",
   "execution_count": 2,
   "id": "7c5a4e21",
   "metadata": {},
   "outputs": [],
   "source": [
    "l.append(4)"
   ]
  },
  {
   "cell_type": "code",
   "execution_count": 3,
   "id": "1a987e4f",
   "metadata": {},
   "outputs": [
    {
     "data": {
      "text/plain": [
       "[1, 2, 3, 4]"
      ]
     },
     "execution_count": 3,
     "metadata": {},
     "output_type": "execute_result"
    }
   ],
   "source": [
    "l"
   ]
  },
  {
   "cell_type": "code",
   "execution_count": 4,
   "id": "81d2a00c",
   "metadata": {},
   "outputs": [
    {
     "data": {
      "text/plain": [
       "4"
      ]
     },
     "execution_count": 4,
     "metadata": {},
     "output_type": "execute_result"
    }
   ],
   "source": [
    "l.pop()"
   ]
  },
  {
   "cell_type": "code",
   "execution_count": 5,
   "id": "f086018f",
   "metadata": {},
   "outputs": [
    {
     "data": {
      "text/plain": [
       "[1, 2, 3]"
      ]
     },
     "execution_count": 5,
     "metadata": {},
     "output_type": "execute_result"
    }
   ],
   "source": [
    "l"
   ]
  },
  {
   "cell_type": "code",
   "execution_count": null,
   "id": "816cc0d9",
   "metadata": {},
   "outputs": [],
   "source": [
    "l.insert"
   ]
  },
  {
   "cell_type": "markdown",
   "id": "2a6536ac",
   "metadata": {},
   "source": [
    "Functions: It allows to create a block of codes that can be easily executed many times, without rewriting the code"
   ]
  },
  {
   "cell_type": "markdown",
   "id": "4c61b8e4",
   "metadata": {},
   "source": [
    "def name_of_the_fuction(): -- It tells python that we are about to write a fuction\n",
    "   print(\"Hello\")\n",
    "   \n",
    "name of fuction() -- To call a fuction \n",
    "hello              -- then it execute the block inside the fuction\n",
    "\n",
    "Return with staore the output in a vairable"
   ]
  },
  {
   "cell_type": "code",
   "execution_count": 1,
   "id": "70e089e6",
   "metadata": {},
   "outputs": [],
   "source": [
    "def say_hello():\n",
    "    print(\"hello\")\n",
    "    print(\"hi\")"
   ]
  },
  {
   "cell_type": "code",
   "execution_count": 2,
   "id": "8716128d",
   "metadata": {},
   "outputs": [
    {
     "name": "stdout",
     "output_type": "stream",
     "text": [
      "hello\n",
      "hi\n"
     ]
    }
   ],
   "source": [
    "say_hello()"
   ]
  },
  {
   "cell_type": "code",
   "execution_count": 3,
   "id": "faa9e603",
   "metadata": {},
   "outputs": [],
   "source": [
    "def function(name):\n",
    "    print(\"hello \" + name)"
   ]
  },
  {
   "cell_type": "code",
   "execution_count": 4,
   "id": "379fe792",
   "metadata": {},
   "outputs": [
    {
     "name": "stdout",
     "output_type": "stream",
     "text": [
      "hello mounika\n"
     ]
    }
   ],
   "source": [
    "function(\"mounika\")"
   ]
  },
  {
   "cell_type": "code",
   "execution_count": 14,
   "id": "3a4c8c46",
   "metadata": {},
   "outputs": [],
   "source": [
    "def function(name):\n",
    "    print(f'Hello {name}')"
   ]
  },
  {
   "cell_type": "code",
   "execution_count": 10,
   "id": "a94d9b3a",
   "metadata": {},
   "outputs": [],
   "source": [
    "def print_full_name(first, last):\n",
    "    print(\"Hello {0} {1}! You just delved into python.\".format(first, last))\n",
    "\n"
   ]
  },
  {
   "cell_type": "code",
   "execution_count": 12,
   "id": "209824e9",
   "metadata": {},
   "outputs": [
    {
     "name": "stdout",
     "output_type": "stream",
     "text": [
      "Hello mounika thota! You just delved into python.\n"
     ]
    }
   ],
   "source": [
    " print_full_name('mounika', 'thota')"
   ]
  },
  {
   "cell_type": "code",
   "execution_count": 15,
   "id": "be4d7756",
   "metadata": {},
   "outputs": [
    {
     "name": "stdout",
     "output_type": "stream",
     "text": [
      "Hello World\n"
     ]
    }
   ],
   "source": [
    "function(\"World\")"
   ]
  },
  {
   "cell_type": "code",
   "execution_count": 16,
   "id": "ee7a2f77",
   "metadata": {},
   "outputs": [],
   "source": [
    "def add_num(n1,n2):\n",
    "    print(n1+n2)"
   ]
  },
  {
   "cell_type": "code",
   "execution_count": 17,
   "id": "38dfc140",
   "metadata": {},
   "outputs": [
    {
     "name": "stdout",
     "output_type": "stream",
     "text": [
      "11\n"
     ]
    }
   ],
   "source": [
    "add_num(5,6)"
   ]
  },
  {
   "cell_type": "code",
   "execution_count": 18,
   "id": "414e3607",
   "metadata": {},
   "outputs": [],
   "source": [
    "def add_num(n1,n2):\n",
    "    return n1+n2"
   ]
  },
  {
   "cell_type": "code",
   "execution_count": 19,
   "id": "ae598215",
   "metadata": {},
   "outputs": [
    {
     "data": {
      "text/plain": [
       "9"
      ]
     },
     "execution_count": 19,
     "metadata": {},
     "output_type": "execute_result"
    }
   ],
   "source": [
    "add_num(7,2)"
   ]
  },
  {
   "cell_type": "code",
   "execution_count": 25,
   "id": "b3f78d06",
   "metadata": {},
   "outputs": [],
   "source": [
    "def even_num_check(n):\n",
    "    return (n%2==0)\n",
    "        "
   ]
  },
  {
   "cell_type": "code",
   "execution_count": 26,
   "id": "80d107c7",
   "metadata": {},
   "outputs": [
    {
     "data": {
      "text/plain": [
       "True"
      ]
     },
     "execution_count": 26,
     "metadata": {},
     "output_type": "execute_result"
    }
   ],
   "source": [
    "even_num_check(100)"
   ]
  },
  {
   "cell_type": "code",
   "execution_count": 27,
   "id": "226c8634",
   "metadata": {},
   "outputs": [
    {
     "data": {
      "text/plain": [
       "False"
      ]
     },
     "execution_count": 27,
     "metadata": {},
     "output_type": "execute_result"
    }
   ],
   "source": [
    "even_num_check(41)"
   ]
  },
  {
   "cell_type": "code",
   "execution_count": 1,
   "id": "95511482",
   "metadata": {},
   "outputs": [],
   "source": [
    "def check_even_list(num_list):\n",
    "    # place holder\n",
    "    my_new_list=[]\n",
    "    for i in num_list:\n",
    "        if(i%2==0):\n",
    "            my_new_list.append(i)\n",
    "        else:\n",
    "            pass\n",
    "    return my_new_list\n",
    " "
   ]
  },
  {
   "cell_type": "code",
   "execution_count": 2,
   "id": "25baa8a9",
   "metadata": {},
   "outputs": [
    {
     "data": {
      "text/plain": [
       "[2, 4]"
      ]
     },
     "execution_count": 2,
     "metadata": {},
     "output_type": "execute_result"
    }
   ],
   "source": [
    "check_even_list([1,2,3,4,5])"
   ]
  },
  {
   "cell_type": "markdown",
   "id": "5dbc93a8",
   "metadata": {},
   "source": [
    "Python functions for Tuple unpacking\n",
    "\n",
    "ex- code to check empl of the month based on work hours"
   ]
  },
  {
   "cell_type": "code",
   "execution_count": 29,
   "id": "4b3ab643",
   "metadata": {},
   "outputs": [],
   "source": [
    "work_hr = [('mounika',100),('lilly',1000),('Ram',900)]"
   ]
  },
  {
   "cell_type": "code",
   "execution_count": 30,
   "id": "9b548ec3",
   "metadata": {},
   "outputs": [],
   "source": [
    "def Employee_of_month(work_hr):\n",
    "    current_hr=0\n",
    "    current_emp=''\n",
    "    for empl,hrs in work_hr:\n",
    "        if hrs>current_hr:\n",
    "            current_hr=hrs\n",
    "            current_emp=empl\n",
    "        else:\n",
    "            pass\n",
    "    return(current_emp,current_hr)"
   ]
  },
  {
   "cell_type": "code",
   "execution_count": 31,
   "id": "af7e5e6e",
   "metadata": {},
   "outputs": [
    {
     "data": {
      "text/plain": [
       "('lilly', 1000)"
      ]
     },
     "execution_count": 31,
     "metadata": {},
     "output_type": "execute_result"
    }
   ],
   "source": [
    "Employee_of_month(work_hr)"
   ]
  },
  {
   "cell_type": "code",
   "execution_count": 22,
   "id": "dd664d6c",
   "metadata": {},
   "outputs": [],
   "source": [
    "def Employee_of_month(work_hr):\n",
    "    for empl,hrs in work_hr:\n",
    "        print(hrs)"
   ]
  },
  {
   "cell_type": "code",
   "execution_count": 23,
   "id": "222dc2a8",
   "metadata": {},
   "outputs": [
    {
     "name": "stdout",
     "output_type": "stream",
     "text": [
      "100\n",
      "600\n",
      "900\n"
     ]
    }
   ],
   "source": [
    "Employee_of_month(work_hr)"
   ]
  },
  {
   "cell_type": "markdown",
   "id": "b6f2fb7c",
   "metadata": {},
   "source": [
    "Interactions between Python Functions- - Multiple functions interact with eachother and provide the object "
   ]
  },
  {
   "cell_type": "code",
   "execution_count": 4,
   "id": "c3e55d74",
   "metadata": {},
   "outputs": [],
   "source": [
    "ex=[1,2,4,6,8,3,9,0]"
   ]
  },
  {
   "cell_type": "code",
   "execution_count": 5,
   "id": "204811bf",
   "metadata": {},
   "outputs": [],
   "source": [
    "from random import shuffle"
   ]
  },
  {
   "cell_type": "code",
   "execution_count": 6,
   "id": "019922d2",
   "metadata": {},
   "outputs": [],
   "source": [
    "r= shuffle(ex)"
   ]
  },
  {
   "cell_type": "code",
   "execution_count": 7,
   "id": "33a61737",
   "metadata": {},
   "outputs": [],
   "source": [
    "r"
   ]
  },
  {
   "cell_type": "code",
   "execution_count": 8,
   "id": "60726322",
   "metadata": {},
   "outputs": [],
   "source": [
    "def shuffle_list(mylist):\n",
    "    shuffle(mylist)\n",
    "    return mylist"
   ]
  },
  {
   "cell_type": "code",
   "execution_count": 9,
   "id": "bb773a70",
   "metadata": {},
   "outputs": [
    {
     "data": {
      "text/plain": [
       "[3, 8, 4, 9, 1, 6, 0, 2]"
      ]
     },
     "execution_count": 9,
     "metadata": {},
     "output_type": "execute_result"
    }
   ],
   "source": [
    "shuffle_list(ex)"
   ]
  },
  {
   "cell_type": "code",
   "execution_count": 20,
   "id": "1d807ab0",
   "metadata": {},
   "outputs": [],
   "source": [
    "a=['','O','']"
   ]
  },
  {
   "cell_type": "code",
   "execution_count": 21,
   "id": "16503ef7",
   "metadata": {},
   "outputs": [
    {
     "data": {
      "text/plain": [
       "['O', '', '']"
      ]
     },
     "execution_count": 21,
     "metadata": {},
     "output_type": "execute_result"
    }
   ],
   "source": [
    "shuffle_list(a)"
   ]
  },
  {
   "cell_type": "code",
   "execution_count": 15,
   "id": "8218f655",
   "metadata": {},
   "outputs": [],
   "source": [
    "def player_guess():\n",
    "    guess=''\n",
    "    \n",
    "    while guess not in ['0','1','2']:\n",
    "        guess=input(\"pick a number 0 1 or 2 : \")\n",
    "        \n",
    "    return int(guess)"
   ]
  },
  {
   "cell_type": "code",
   "execution_count": 16,
   "id": "e7d6a1e4",
   "metadata": {},
   "outputs": [
    {
     "name": "stdout",
     "output_type": "stream",
     "text": [
      "pick a number 0 1 or 2 : 6\n",
      "pick a number 0 1 or 2 : 2\n"
     ]
    },
    {
     "data": {
      "text/plain": [
       "2"
      ]
     },
     "execution_count": 16,
     "metadata": {},
     "output_type": "execute_result"
    }
   ],
   "source": [
    "player_guess()"
   ]
  },
  {
   "cell_type": "code",
   "execution_count": 18,
   "id": "ac390b4b",
   "metadata": {},
   "outputs": [],
   "source": [
    "def Check_guess(a,guess):\n",
    "    if a[guess]=='O':\n",
    "        print(\"correct\")\n",
    "    else:\n",
    "        print(\"wrong!\")"
   ]
  },
  {
   "cell_type": "code",
   "execution_count": 24,
   "id": "17e65640",
   "metadata": {},
   "outputs": [
    {
     "name": "stdout",
     "output_type": "stream",
     "text": [
      "pick a number 0 1 or 2 : 1\n",
      "wrong!\n"
     ]
    }
   ],
   "source": [
    "mylist =['','O','']\n",
    "\n",
    "mixed_list=shuffle_list(mylist)\n",
    "\n",
    "guess=player_guess()\n",
    "\n",
    "Check_guess(mixed_list,guess)"
   ]
  },
  {
   "cell_type": "markdown",
   "id": "db7d920f",
   "metadata": {},
   "source": [
    "*args - arguments\n",
    "**kwargs - key word arguments\n",
    "\n",
    "These are used for better understanding of code"
   ]
  },
  {
   "cell_type": "code",
   "execution_count": 25,
   "id": "8858114a",
   "metadata": {},
   "outputs": [],
   "source": [
    "def sum(a,b,c):\n",
    "    return a+b+c"
   ]
  },
  {
   "cell_type": "code",
   "execution_count": 26,
   "id": "e055bd27",
   "metadata": {},
   "outputs": [
    {
     "data": {
      "text/plain": [
       "12"
      ]
     },
     "execution_count": 26,
     "metadata": {},
     "output_type": "execute_result"
    }
   ],
   "source": [
    "sum(2,4,6)"
   ]
  },
  {
   "cell_type": "code",
   "execution_count": 27,
   "id": "87dba2b9",
   "metadata": {},
   "outputs": [
    {
     "ename": "TypeError",
     "evalue": "sum() takes 3 positional arguments but 4 were given",
     "output_type": "error",
     "traceback": [
      "\u001b[1;31m---------------------------------------------------------------------------\u001b[0m",
      "\u001b[1;31mTypeError\u001b[0m                                 Traceback (most recent call last)",
      "Input \u001b[1;32mIn [27]\u001b[0m, in \u001b[0;36m<cell line: 1>\u001b[1;34m()\u001b[0m\n\u001b[1;32m----> 1\u001b[0m \u001b[38;5;28;43msum\u001b[39;49m\u001b[43m(\u001b[49m\u001b[38;5;241;43m2\u001b[39;49m\u001b[43m,\u001b[49m\u001b[38;5;241;43m4\u001b[39;49m\u001b[43m,\u001b[49m\u001b[38;5;241;43m6\u001b[39;49m\u001b[43m,\u001b[49m\u001b[38;5;241;43m8\u001b[39;49m\u001b[43m)\u001b[49m\n",
      "\u001b[1;31mTypeError\u001b[0m: sum() takes 3 positional arguments but 4 were given"
     ]
    }
   ],
   "source": [
    "sum(2,4,6,8)"
   ]
  },
  {
   "cell_type": "code",
   "execution_count": 1,
   "id": "311fde42",
   "metadata": {},
   "outputs": [],
   "source": [
    "def sum(*args):\n",
    "    return sum(args)"
   ]
  },
  {
   "cell_type": "code",
   "execution_count": null,
   "id": "c151f4f7",
   "metadata": {},
   "outputs": [],
   "source": [
    "sum(2,5,6,7,8)"
   ]
  },
  {
   "cell_type": "code",
   "execution_count": null,
   "id": "4fbf548a",
   "metadata": {},
   "outputs": [],
   "source": []
  }
 ],
 "metadata": {
  "kernelspec": {
   "display_name": "Python 3 (ipykernel)",
   "language": "python",
   "name": "python3"
  },
  "language_info": {
   "codemirror_mode": {
    "name": "ipython",
    "version": 3
   },
   "file_extension": ".py",
   "mimetype": "text/x-python",
   "name": "python",
   "nbconvert_exporter": "python",
   "pygments_lexer": "ipython3",
   "version": "3.9.12"
  }
 },
 "nbformat": 4,
 "nbformat_minor": 5
}
