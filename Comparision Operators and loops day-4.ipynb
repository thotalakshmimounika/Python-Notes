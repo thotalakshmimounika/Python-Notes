{
 "cells": [
  {
   "cell_type": "code",
   "execution_count": 1,
   "id": "9286d59c",
   "metadata": {},
   "outputs": [
    {
     "data": {
      "text/plain": [
       "True"
      ]
     },
     "execution_count": 1,
     "metadata": {},
     "output_type": "execute_result"
    }
   ],
   "source": [
    "3==3"
   ]
  },
  {
   "cell_type": "code",
   "execution_count": 2,
   "id": "cdf60bd4",
   "metadata": {},
   "outputs": [
    {
     "data": {
      "text/plain": [
       "False"
      ]
     },
     "execution_count": 2,
     "metadata": {},
     "output_type": "execute_result"
    }
   ],
   "source": [
    "2==6"
   ]
  },
  {
   "cell_type": "code",
   "execution_count": 3,
   "id": "fe09c7ec",
   "metadata": {},
   "outputs": [
    {
     "data": {
      "text/plain": [
       "False"
      ]
     },
     "execution_count": 3,
     "metadata": {},
     "output_type": "execute_result"
    }
   ],
   "source": [
    "'Hello'=='bye'"
   ]
  },
  {
   "cell_type": "code",
   "execution_count": 4,
   "id": "a0c1f076",
   "metadata": {},
   "outputs": [
    {
     "data": {
      "text/plain": [
       "False"
      ]
     },
     "execution_count": 4,
     "metadata": {},
     "output_type": "execute_result"
    }
   ],
   "source": [
    "'Bye'=='bye'"
   ]
  },
  {
   "cell_type": "code",
   "execution_count": 5,
   "id": "ae6b84ba",
   "metadata": {},
   "outputs": [
    {
     "data": {
      "text/plain": [
       "False"
      ]
     },
     "execution_count": 5,
     "metadata": {},
     "output_type": "execute_result"
    }
   ],
   "source": [
    "'2'==2"
   ]
  },
  {
   "cell_type": "code",
   "execution_count": 6,
   "id": "ed52e93c",
   "metadata": {},
   "outputs": [
    {
     "data": {
      "text/plain": [
       "True"
      ]
     },
     "execution_count": 6,
     "metadata": {},
     "output_type": "execute_result"
    }
   ],
   "source": [
    "2.0==2"
   ]
  },
  {
   "cell_type": "code",
   "execution_count": 7,
   "id": "02b041f9",
   "metadata": {},
   "outputs": [
    {
     "data": {
      "text/plain": [
       "False"
      ]
     },
     "execution_count": 7,
     "metadata": {},
     "output_type": "execute_result"
    }
   ],
   "source": [
    "2!=2"
   ]
  },
  {
   "cell_type": "code",
   "execution_count": 8,
   "id": "a5fc3448",
   "metadata": {},
   "outputs": [
    {
     "data": {
      "text/plain": [
       "True"
      ]
     },
     "execution_count": 8,
     "metadata": {},
     "output_type": "execute_result"
    }
   ],
   "source": [
    "4!=6"
   ]
  },
  {
   "cell_type": "code",
   "execution_count": 9,
   "id": "24b8bacc",
   "metadata": {},
   "outputs": [
    {
     "data": {
      "text/plain": [
       "False"
      ]
     },
     "execution_count": 9,
     "metadata": {},
     "output_type": "execute_result"
    }
   ],
   "source": [
    "4>8"
   ]
  },
  {
   "cell_type": "code",
   "execution_count": 10,
   "id": "5f6588e5",
   "metadata": {},
   "outputs": [
    {
     "data": {
      "text/plain": [
       "False"
      ]
     },
     "execution_count": 10,
     "metadata": {},
     "output_type": "execute_result"
    }
   ],
   "source": [
    "5<2"
   ]
  },
  {
   "cell_type": "code",
   "execution_count": 11,
   "id": "b757b636",
   "metadata": {},
   "outputs": [
    {
     "data": {
      "text/plain": [
       "True"
      ]
     },
     "execution_count": 11,
     "metadata": {},
     "output_type": "execute_result"
    }
   ],
   "source": [
    "2<9"
   ]
  },
  {
   "cell_type": "code",
   "execution_count": 12,
   "id": "f0a7a749",
   "metadata": {},
   "outputs": [
    {
     "data": {
      "text/plain": [
       "True"
      ]
     },
     "execution_count": 12,
     "metadata": {},
     "output_type": "execute_result"
    }
   ],
   "source": [
    "4>=3"
   ]
  },
  {
   "cell_type": "markdown",
   "id": "f210b7cd",
   "metadata": {},
   "source": [
    "Chanining Comparision"
   ]
  },
  {
   "cell_type": "code",
   "execution_count": 13,
   "id": "ab367301",
   "metadata": {},
   "outputs": [
    {
     "data": {
      "text/plain": [
       "True"
      ]
     },
     "execution_count": 13,
     "metadata": {},
     "output_type": "execute_result"
    }
   ],
   "source": [
    "2<3"
   ]
  },
  {
   "cell_type": "code",
   "execution_count": 14,
   "id": "252904be",
   "metadata": {},
   "outputs": [
    {
     "data": {
      "text/plain": [
       "True"
      ]
     },
     "execution_count": 14,
     "metadata": {},
     "output_type": "execute_result"
    }
   ],
   "source": [
    "1<2<3"
   ]
  },
  {
   "cell_type": "code",
   "execution_count": 15,
   "id": "d27a9c5f",
   "metadata": {},
   "outputs": [
    {
     "data": {
      "text/plain": [
       "False"
      ]
     },
     "execution_count": 15,
     "metadata": {},
     "output_type": "execute_result"
    }
   ],
   "source": [
    "1<2>3"
   ]
  },
  {
   "cell_type": "code",
   "execution_count": 16,
   "id": "9d0b8574",
   "metadata": {},
   "outputs": [
    {
     "data": {
      "text/plain": [
       "False"
      ]
     },
     "execution_count": 16,
     "metadata": {},
     "output_type": "execute_result"
    }
   ],
   "source": [
    "1<2 and 2>3"
   ]
  },
  {
   "cell_type": "code",
   "execution_count": 17,
   "id": "4246779d",
   "metadata": {},
   "outputs": [
    {
     "data": {
      "text/plain": [
       "True"
      ]
     },
     "execution_count": 17,
     "metadata": {},
     "output_type": "execute_result"
    }
   ],
   "source": [
    "1<2 and 2<3"
   ]
  },
  {
   "cell_type": "code",
   "execution_count": 20,
   "id": "aae6b0e8",
   "metadata": {},
   "outputs": [
    {
     "data": {
      "text/plain": [
       "True"
      ]
     },
     "execution_count": 20,
     "metadata": {},
     "output_type": "execute_result"
    }
   ],
   "source": [
    "'hi'=='hi'and 2>1"
   ]
  },
  {
   "cell_type": "code",
   "execution_count": 21,
   "id": "c3377256",
   "metadata": {},
   "outputs": [
    {
     "data": {
      "text/plain": [
       "True"
      ]
     },
     "execution_count": 21,
     "metadata": {},
     "output_type": "execute_result"
    }
   ],
   "source": [
    "3>4 or 3>2"
   ]
  },
  {
   "cell_type": "code",
   "execution_count": 22,
   "id": "803fa006",
   "metadata": {},
   "outputs": [
    {
     "data": {
      "text/plain": [
       "False"
      ]
     },
     "execution_count": 22,
     "metadata": {},
     "output_type": "execute_result"
    }
   ],
   "source": [
    "not(3<4)"
   ]
  },
  {
   "cell_type": "code",
   "execution_count": 25,
   "id": "084419ed",
   "metadata": {},
   "outputs": [
    {
     "data": {
      "text/plain": [
       "False"
      ]
     },
     "execution_count": 25,
     "metadata": {},
     "output_type": "execute_result"
    }
   ],
   "source": [
    "not 4==4"
   ]
  },
  {
   "cell_type": "markdown",
   "id": "bb6b6805",
   "metadata": {},
   "source": [
    "Python Statements"
   ]
  },
  {
   "cell_type": "markdown",
   "id": "55385bee",
   "metadata": {},
   "source": [
    "To control the flow of logic we use some keywords - if, elif, else"
   ]
  },
  {
   "cell_type": "code",
   "execution_count": 26,
   "id": "13875b0a",
   "metadata": {},
   "outputs": [],
   "source": [
    "#colons and indentation(whitespace) are very important which will be using in syntax"
   ]
  },
  {
   "cell_type": "code",
   "execution_count": 28,
   "id": "5ae7a656",
   "metadata": {},
   "outputs": [
    {
     "name": "stdout",
     "output_type": "stream",
     "text": [
      "it is true\n"
     ]
    }
   ],
   "source": [
    "if 3>2:\n",
    "    print(\"it is true\")"
   ]
  },
  {
   "cell_type": "code",
   "execution_count": 30,
   "id": "f7569f3e",
   "metadata": {},
   "outputs": [
    {
     "name": "stdout",
     "output_type": "stream",
     "text": [
      "feed\n"
     ]
    }
   ],
   "source": [
    "hungry=True\n",
    "if hungry:\n",
    "    print(\"feed\")"
   ]
  },
  {
   "cell_type": "code",
   "execution_count": 34,
   "id": "74a53659",
   "metadata": {},
   "outputs": [
    {
     "name": "stdout",
     "output_type": "stream",
     "text": [
      "not hungry\n"
     ]
    }
   ],
   "source": [
    "hungry=False\n",
    "if hungry:\n",
    "    print(\"feed\")\n",
    "else:\n",
    "    print(\"not hungry\")"
   ]
  },
  {
   "cell_type": "code",
   "execution_count": 58,
   "id": "e33c9d9e",
   "metadata": {},
   "outputs": [
    {
     "name": "stdout",
     "output_type": "stream",
     "text": [
      "No\n",
      "No\n",
      "No\n",
      "No\n",
      "No\n",
      "No\n",
      "No\n",
      "yes\n"
     ]
    }
   ],
   "source": [
    "a,b= 1,10**6\n",
    "if a==1:\n",
    "    print(\"No\")\n",
    "elif a>=10**6:\n",
    "    print(\"NO\")\n",
    "else:\n",
    "    for i in range(2,int(a**0.5)):\n",
    "        if(a%i==0):\n",
    "            print(\"No\")\n",
    "    print(\"yes\")"
   ]
  },
  {
   "cell_type": "code",
   "execution_count": 60,
   "id": "a67b4baa",
   "metadata": {},
   "outputs": [
    {
     "name": "stdout",
     "output_type": "stream",
     "text": [
      "No\n",
      "yes\n",
      "yes\n",
      "yes\n",
      "yes\n",
      "yes\n",
      "yes\n",
      "yes\n",
      "yes\n",
      "NO\n"
     ]
    }
   ],
   "source": [
    "a, b = 1, 10\n",
    "for n in range(a,b + 1):\n",
    "    if n==1:\n",
    "        print(\"No\")   \n",
    "    elif n>=10:\n",
    "        print(\"NO\")\n",
    "    else:\n",
    "        for i in range(2,int(n**0.5)):\n",
    "            if(n%i==0):\n",
    "                print(\"No\")\n",
    "        print(\"yes\")"
   ]
  },
  {
   "cell_type": "code",
   "execution_count": 75,
   "id": "5c7795ca",
   "metadata": {},
   "outputs": [
    {
     "name": "stdout",
     "output_type": "stream",
     "text": [
      "100\n",
      "NO\n",
      "YES\n"
     ]
    }
   ],
   "source": [
    "a = int(input())\n",
    "if a==1:\n",
    "    print(\"NO\")\n",
    "elif a>10**6:\n",
    "    print(\"NO\")\n",
    "else:\n",
    "    c=0\n",
    "    for i in range(2,int(a**0.5)):\n",
    "        if(a%i==0):\n",
    "            print(\"NO\")\n",
    "            break\n",
    "    print(\"YES\")\n",
    "        "
   ]
  },
  {
   "cell_type": "code",
   "execution_count": null,
   "id": "1a5d6490",
   "metadata": {},
   "outputs": [],
   "source": [
    "def main():\n",
    "    # YOUR CODE GOES HERE\n",
    "    # Please take input and print output to standard input/output (stdin/stdout)\n",
    "    # E.g. 'input()/raw_input()' for input & 'print' for output\n",
    "    n= int(input())\n",
    "    if n==1:\n",
    "        print(\"NO\")\n",
    "        return 0\n",
    "    elif n>100:\n",
    "        print(\"NO\")\n",
    "        return 0\n",
    "    else:\n",
    "        for i in range(2,int(n**0.5)):\n",
    "            if n%i == 0:\n",
    "                print(\"NO\")\n",
    "                return 0\n",
    "        print(\"YES\")\n",
    "        return 0\n",
    "\n",
    "    return 0\n",
    "\n",
    "if __name__ == '__main__':\n",
    "    main()\n",
    "       "
   ]
  },
  {
   "cell_type": "code",
   "execution_count": 74,
   "id": "946ee399",
   "metadata": {},
   "outputs": [
    {
     "data": {
      "text/plain": [
       "4"
      ]
     },
     "execution_count": 74,
     "metadata": {},
     "output_type": "execute_result"
    }
   ],
   "source": [
    "a=23\n",
    "int(a**0.5)"
   ]
  },
  {
   "cell_type": "code",
   "execution_count": 77,
   "id": "d9020ffb",
   "metadata": {},
   "outputs": [
    {
     "data": {
      "text/plain": [
       "3.1622776601683795"
      ]
     },
     "execution_count": 77,
     "metadata": {},
     "output_type": "execute_result"
    }
   ],
   "source": [
    "10**0.5"
   ]
  },
  {
   "cell_type": "code",
   "execution_count": 37,
   "id": "614a55b9",
   "metadata": {},
   "outputs": [
    {
     "name": "stdout",
     "output_type": "stream",
     "text": [
      "deposite\n"
     ]
    }
   ],
   "source": [
    "loc=\"bank\"\n",
    "\n",
    "if loc==\"market\":\n",
    "    print(\"shopping\")\n",
    "elif loc==\"bank\":\n",
    "    print(\"deposite\")\n",
    "else:\n",
    "    print(\"give directions\")"
   ]
  },
  {
   "cell_type": "raw",
   "id": "3950558c",
   "metadata": {},
   "source": [
    "Loops"
   ]
  },
  {
   "cell_type": "code",
   "execution_count": 2,
   "id": "9ec9381f",
   "metadata": {},
   "outputs": [],
   "source": [
    "a=[1,2,3,4,5,6,7,8,9,10]"
   ]
  },
  {
   "cell_type": "code",
   "execution_count": 3,
   "id": "3ec4ed06",
   "metadata": {},
   "outputs": [
    {
     "name": "stdout",
     "output_type": "stream",
     "text": [
      "Hello\n",
      "Hello\n",
      "Hello\n",
      "Hello\n",
      "Hello\n",
      "Hello\n",
      "Hello\n",
      "Hello\n",
      "Hello\n",
      "Hello\n"
     ]
    }
   ],
   "source": [
    "for x in a:\n",
    "    print(\"Hello\")"
   ]
  },
  {
   "cell_type": "code",
   "execution_count": 41,
   "id": "2ce1bef9",
   "metadata": {},
   "outputs": [
    {
     "name": "stdout",
     "output_type": "stream",
     "text": [
      "odd numbers : 1\n",
      "2\n",
      "odd numbers : 3\n",
      "4\n",
      "odd numbers : 5\n",
      "6\n",
      "odd numbers : 7\n",
      "8\n",
      "odd numbers : 9\n",
      "10\n"
     ]
    }
   ],
   "source": [
    "for x in a:\n",
    "    if(x%2==0):\n",
    "        print(x)\n",
    "    else:\n",
    "        print(f'odd numbers : {x}')"
   ]
  },
  {
   "cell_type": "code",
   "execution_count": 49,
   "id": "ee24b3b6",
   "metadata": {},
   "outputs": [
    {
     "name": "stdout",
     "output_type": "stream",
     "text": [
      "55\n"
     ]
    }
   ],
   "source": [
    "s=0\n",
    "for x in a:\n",
    "    s=s+x\n",
    "print(s)"
   ]
  },
  {
   "cell_type": "code",
   "execution_count": 59,
   "id": "19959ffb",
   "metadata": {},
   "outputs": [
    {
     "name": "stdout",
     "output_type": "stream",
     "text": [
      "h\n",
      "e\n",
      "l\n",
      "l\n",
      "o\n"
     ]
    }
   ],
   "source": [
    "st = \"hello\"\n",
    "for l in st:\n",
    "    print(l)"
   ]
  },
  {
   "cell_type": "code",
   "execution_count": 4,
   "id": "7e0b1c3e",
   "metadata": {},
   "outputs": [],
   "source": [
    "t=(1,2,3)"
   ]
  },
  {
   "cell_type": "code",
   "execution_count": 5,
   "id": "7ec017b4",
   "metadata": {},
   "outputs": [
    {
     "name": "stdout",
     "output_type": "stream",
     "text": [
      "1\n",
      "2\n",
      "3\n"
     ]
    }
   ],
   "source": [
    "for l in t:\n",
    "    print(l)"
   ]
  },
  {
   "cell_type": "code",
   "execution_count": 6,
   "id": "188866bc",
   "metadata": {},
   "outputs": [],
   "source": [
    "k=[(1,2),(3,5),(6,9)]"
   ]
  },
  {
   "cell_type": "code",
   "execution_count": 7,
   "id": "04de7ddc",
   "metadata": {},
   "outputs": [
    {
     "data": {
      "text/plain": [
       "3"
      ]
     },
     "execution_count": 7,
     "metadata": {},
     "output_type": "execute_result"
    }
   ],
   "source": [
    "len(k)"
   ]
  },
  {
   "cell_type": "code",
   "execution_count": 8,
   "id": "9f7805dc",
   "metadata": {},
   "outputs": [
    {
     "name": "stdout",
     "output_type": "stream",
     "text": [
      "(1, 2)\n",
      "(3, 5)\n",
      "(6, 9)\n"
     ]
    }
   ],
   "source": [
    "for j in k: # getting tuple items from a list\n",
    "    print(j)"
   ]
  },
  {
   "cell_type": "code",
   "execution_count": 9,
   "id": "774f5408",
   "metadata": {},
   "outputs": [
    {
     "name": "stdout",
     "output_type": "stream",
     "text": [
      "1\n",
      "2\n",
      "3\n",
      "5\n",
      "6\n",
      "9\n"
     ]
    }
   ],
   "source": [
    "for (a,b) in k: # tuple unpacking\n",
    "    print(a)\n",
    "    print(b)"
   ]
  },
  {
   "cell_type": "code",
   "execution_count": 10,
   "id": "7915bec8",
   "metadata": {},
   "outputs": [],
   "source": [
    "my_list=[(1,2,3),(4,5,6),(7,8,9)]"
   ]
  },
  {
   "cell_type": "code",
   "execution_count": 11,
   "id": "194c735c",
   "metadata": {},
   "outputs": [
    {
     "name": "stdout",
     "output_type": "stream",
     "text": [
      "(1, 2, 3)\n",
      "(4, 5, 6)\n",
      "(7, 8, 9)\n"
     ]
    }
   ],
   "source": [
    "for i in my_list:\n",
    "    print(i)"
   ]
  },
  {
   "cell_type": "code",
   "execution_count": 12,
   "id": "925d171b",
   "metadata": {},
   "outputs": [
    {
     "name": "stdout",
     "output_type": "stream",
     "text": [
      "3\n",
      "6\n",
      "9\n"
     ]
    }
   ],
   "source": [
    "for a,b,c in my_list:\n",
    "    print(c)"
   ]
  },
  {
   "cell_type": "code",
   "execution_count": 23,
   "id": "5f64b49f",
   "metadata": {},
   "outputs": [],
   "source": [
    "d={'k1':1,'k2':\"hello\",'k3':89.4}"
   ]
  },
  {
   "cell_type": "code",
   "execution_count": 24,
   "id": "e438098a",
   "metadata": {},
   "outputs": [
    {
     "name": "stdout",
     "output_type": "stream",
     "text": [
      "k1\n",
      "k2\n",
      "k3\n"
     ]
    }
   ],
   "source": [
    "for i in d: # in dict only key will be display \n",
    "    print(i)"
   ]
  },
  {
   "cell_type": "code",
   "execution_count": 25,
   "id": "b6e3e9c1",
   "metadata": {},
   "outputs": [
    {
     "name": "stdout",
     "output_type": "stream",
     "text": [
      "('k1', 1)\n",
      "('k2', 'hello')\n",
      "('k3', 89.4)\n"
     ]
    }
   ],
   "source": [
    "for i in d.items(): # if we need values to be diplayes in dict with for loop use - dict_name.items()\n",
    "    print(i)"
   ]
  },
  {
   "cell_type": "code",
   "execution_count": 28,
   "id": "7e4d9451",
   "metadata": {},
   "outputs": [
    {
     "name": "stdout",
     "output_type": "stream",
     "text": [
      "1\n",
      "hello\n",
      "89.4\n"
     ]
    }
   ],
   "source": [
    "for key,values in d.items(): \n",
    "    print(values)"
   ]
  },
  {
   "cell_type": "markdown",
   "id": "8adf1276",
   "metadata": {},
   "source": [
    "While Lopps"
   ]
  },
  {
   "cell_type": "code",
   "execution_count": 32,
   "id": "a0e2fea9",
   "metadata": {},
   "outputs": [
    {
     "name": "stdout",
     "output_type": "stream",
     "text": [
      "the current value of x is 0\n",
      "the current value of x is 1\n",
      "the current value of x is 2\n",
      "the current value of x is 3\n",
      "the current value of x is 4\n"
     ]
    }
   ],
   "source": [
    "x=0\n",
    "\n",
    "while x < 5:\n",
    "    print(f'the current value of x is {x}')# nest string literal\n",
    "    x+=1"
   ]
  },
  {
   "cell_type": "markdown",
   "id": "0687f2b6",
   "metadata": {},
   "source": [
    "break: Breaks out the closest current enclosing loop\n",
    "\n",
    "continue : Goes to the top of the closest enclosing loop\n",
    "\n",
    "pass: does nothing at all.\n"
   ]
  },
  {
   "cell_type": "code",
   "execution_count": 36,
   "id": "0e26dd12",
   "metadata": {},
   "outputs": [
    {
     "ename": "IndentationError",
     "evalue": "expected an indented block (3714018765.py, line 5)",
     "output_type": "error",
     "traceback": [
      "\u001b[1;36m  Input \u001b[1;32mIn [36]\u001b[1;36m\u001b[0m\n\u001b[1;33m    \u001b[0m\n\u001b[1;37m    ^\u001b[0m\n\u001b[1;31mIndentationError\u001b[0m\u001b[1;31m:\u001b[0m expected an indented block\n"
     ]
    }
   ],
   "source": [
    "x=[1,2,4]\n",
    "\n",
    "for i in x:\n",
    "    #comments\n",
    " "
   ]
  },
  {
   "cell_type": "code",
   "execution_count": 37,
   "id": "1cfc0069",
   "metadata": {},
   "outputs": [],
   "source": [
    "x=[1,2,4]\n",
    "\n",
    "for i in x:\n",
    "    #comments\n",
    "    pass"
   ]
  },
  {
   "cell_type": "code",
   "execution_count": 38,
   "id": "e60fac11",
   "metadata": {},
   "outputs": [
    {
     "name": "stdout",
     "output_type": "stream",
     "text": [
      "End of script\n"
     ]
    }
   ],
   "source": [
    "x=[1,2,4]\n",
    "\n",
    "for i in x:\n",
    "    #comments\n",
    "    pass\n",
    "print(\"End of script\")"
   ]
  },
  {
   "cell_type": "code",
   "execution_count": 42,
   "id": "27ffb208",
   "metadata": {},
   "outputs": [
    {
     "name": "stdout",
     "output_type": "stream",
     "text": [
      "M\n",
      "o\n",
      "n\n",
      "i\n",
      "k\n",
      "a\n"
     ]
    }
   ],
   "source": [
    "a=\"Mounika\"\n",
    "for i in a:\n",
    "    if i=='u':\n",
    "        continue\n",
    "    print(i)"
   ]
  },
  {
   "cell_type": "code",
   "execution_count": 43,
   "id": "936af63c",
   "metadata": {},
   "outputs": [
    {
     "name": "stdout",
     "output_type": "stream",
     "text": [
      "M\n",
      "o\n"
     ]
    }
   ],
   "source": [
    "a=\"Mounika\"\n",
    "for i in a:\n",
    "    if i=='u':\n",
    "        break\n",
    "    print(i)"
   ]
  },
  {
   "cell_type": "code",
   "execution_count": 44,
   "id": "5346bb97",
   "metadata": {},
   "outputs": [
    {
     "ename": "SyntaxError",
     "evalue": "invalid syntax (1310539613.py, line 3)",
     "output_type": "error",
     "traceback": [
      "\u001b[1;36m  Input \u001b[1;32mIn [44]\u001b[1;36m\u001b[0m\n\u001b[1;33m    if A=1:\u001b[0m\n\u001b[1;37m        ^\u001b[0m\n\u001b[1;31mSyntaxError\u001b[0m\u001b[1;31m:\u001b[0m invalid syntax\n"
     ]
    }
   ],
   "source": [
    "\n",
    "if A=1:\n",
    "  print(\"NO\")\n",
    "else:\n",
    "  for i in range(2,A**0.5):\n",
    "    if(A%i==0):\n",
    "      print(\"no\")\n",
    "      break\n",
    "  print(\"yes\")"
   ]
  },
  {
   "cell_type": "code",
   "execution_count": null,
   "id": "ed9b95aa",
   "metadata": {},
   "outputs": [],
   "source": []
  }
 ],
 "metadata": {
  "kernelspec": {
   "display_name": "Python 3 (ipykernel)",
   "language": "python",
   "name": "python3"
  },
  "language_info": {
   "codemirror_mode": {
    "name": "ipython",
    "version": 3
   },
   "file_extension": ".py",
   "mimetype": "text/x-python",
   "name": "python",
   "nbconvert_exporter": "python",
   "pygments_lexer": "ipython3",
   "version": "3.9.12"
  }
 },
 "nbformat": 4,
 "nbformat_minor": 5
}
