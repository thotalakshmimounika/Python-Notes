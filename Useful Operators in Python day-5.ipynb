{
 "cells": [
  {
   "cell_type": "markdown",
   "id": "35589136",
   "metadata": {},
   "source": [
    "Range is a generator\n"
   ]
  },
  {
   "cell_type": "code",
   "execution_count": 1,
   "id": "fb0a09d9",
   "metadata": {
    "scrolled": true
   },
   "outputs": [
    {
     "name": "stdout",
     "output_type": "stream",
     "text": [
      "0\n",
      "1\n",
      "2\n",
      "3\n",
      "4\n",
      "5\n",
      "6\n",
      "7\n",
      "8\n",
      "9\n"
     ]
    }
   ],
   "source": [
    "for i in range(10):\n",
    "    print(i) # goes from 0 but including 10"
   ]
  },
  {
   "cell_type": "code",
   "execution_count": 6,
   "id": "ce977373",
   "metadata": {},
   "outputs": [
    {
     "name": "stdout",
     "output_type": "stream",
     "text": [
      "0\n",
      "2\n",
      "4\n",
      "6\n",
      "8\n"
     ]
    }
   ],
   "source": [
    "for i in range(0,10,2):  #Range (start,stop(not including), step sizw)\n",
    "    print(i)"
   ]
  },
  {
   "cell_type": "code",
   "execution_count": 7,
   "id": "0f1fa1ee",
   "metadata": {},
   "outputs": [
    {
     "name": "stdout",
     "output_type": "stream",
     "text": [
      "0\n",
      "2\n",
      "4\n",
      "6\n",
      "8\n",
      "10\n"
     ]
    }
   ],
   "source": [
    "for i in range(0,11,2):\n",
    "    print(i)"
   ]
  },
  {
   "cell_type": "code",
   "execution_count": 8,
   "id": "17515551",
   "metadata": {},
   "outputs": [
    {
     "data": {
      "text/plain": [
       "range(0, 11, 2)"
      ]
     },
     "execution_count": 8,
     "metadata": {},
     "output_type": "execute_result"
    }
   ],
   "source": [
    "range(0,11,2) # it is a generator"
   ]
  },
  {
   "cell_type": "code",
   "execution_count": 9,
   "id": "a4ebdca4",
   "metadata": {},
   "outputs": [
    {
     "data": {
      "text/plain": [
       "[0, 2, 4, 6, 8, 10]"
      ]
     },
     "execution_count": 9,
     "metadata": {},
     "output_type": "execute_result"
    }
   ],
   "source": [
    "list(range(0,11,2)) #to get a list we need to cast it into list"
   ]
  },
  {
   "cell_type": "code",
   "execution_count": 10,
   "id": "c134199c",
   "metadata": {},
   "outputs": [
    {
     "data": {
      "text/plain": [
       "(0, 2, 4, 6, 8, 10)"
      ]
     },
     "execution_count": 10,
     "metadata": {},
     "output_type": "execute_result"
    }
   ],
   "source": [
    "tuple(range(0,11,2))"
   ]
  },
  {
   "cell_type": "markdown",
   "id": "4903e233",
   "metadata": {},
   "source": [
    "Enuemarator"
   ]
  },
  {
   "cell_type": "code",
   "execution_count": 1,
   "id": "70dbd7cf",
   "metadata": {},
   "outputs": [
    {
     "name": "stdout",
     "output_type": "stream",
     "text": [
      "for count 0 the letter is a\n",
      "for count 1 the letter is b\n",
      "for count 2 the letter is c\n",
      "for count 3 the letter is d\n",
      "for count 4 the letter is e\n"
     ]
    }
   ],
   "source": [
    "c=0\n",
    "for l in 'abcde':\n",
    "    print('for count {} the letter is {}'.format(c,l))\n",
    "    c+=1"
   ]
  },
  {
   "cell_type": "code",
   "execution_count": 2,
   "id": "ca21b47e",
   "metadata": {},
   "outputs": [
    {
     "name": "stdout",
     "output_type": "stream",
     "text": [
      "a\n",
      "b\n",
      "c\n",
      "d\n",
      "e\n"
     ]
    }
   ],
   "source": [
    "c=0\n",
    "word ='abcde'\n",
    "for l in word:\n",
    "    print(word[c])\n",
    "    c+=1"
   ]
  },
  {
   "cell_type": "code",
   "execution_count": 3,
   "id": "97588c8a",
   "metadata": {},
   "outputs": [
    {
     "name": "stdout",
     "output_type": "stream",
     "text": [
      "(0, 'a')\n",
      "(1, 'b')\n",
      "(2, 'c')\n",
      "(3, 'd')\n",
      "(4, 'e')\n"
     ]
    }
   ],
   "source": [
    "word ='abcde'\n",
    "for l in enumerate(word):\n",
    "    print(l)"
   ]
  },
  {
   "cell_type": "markdown",
   "id": "4d525138",
   "metadata": {},
   "source": [
    "Zip Function, zips two lists"
   ]
  },
  {
   "cell_type": "code",
   "execution_count": 6,
   "id": "efbbdb1a",
   "metadata": {},
   "outputs": [
    {
     "name": "stdout",
     "output_type": "stream",
     "text": [
      "(1, 'a', 100)\n",
      "(2, 'b', 200)\n",
      "(3, 'c', 300)\n"
     ]
    }
   ],
   "source": [
    "my_list1 = [1,2,3,5,9,8]\n",
    "my_list2 =['a','b','c']\n",
    "my_list3 = [100,200,300]\n",
    "\n",
    "for item in zip(my_list1,my_list2,my_list3):\n",
    "    print(item)"
   ]
  },
  {
   "cell_type": "code",
   "execution_count": 9,
   "id": "4cbf8c0c",
   "metadata": {},
   "outputs": [
    {
     "data": {
      "text/plain": [
       "[(1, 'a', 100), (2, 'b', 200), (3, 'c', 300)]"
      ]
     },
     "execution_count": 9,
     "metadata": {},
     "output_type": "execute_result"
    }
   ],
   "source": [
    "list(zip(my_list1,my_list2,my_list3))"
   ]
  },
  {
   "cell_type": "markdown",
   "id": "bca3aa18",
   "metadata": {},
   "source": [
    "in operator"
   ]
  },
  {
   "cell_type": "code",
   "execution_count": 11,
   "id": "76b7ee07",
   "metadata": {},
   "outputs": [
    {
     "data": {
      "text/plain": [
       "True"
      ]
     },
     "execution_count": 11,
     "metadata": {},
     "output_type": "execute_result"
    }
   ],
   "source": [
    "1 in ['a',1,'x']"
   ]
  },
  {
   "cell_type": "code",
   "execution_count": 13,
   "id": "8b038cbd",
   "metadata": {},
   "outputs": [
    {
     "data": {
      "text/plain": [
       "True"
      ]
     },
     "execution_count": 13,
     "metadata": {},
     "output_type": "execute_result"
    }
   ],
   "source": [
    "'a' in 'all'"
   ]
  },
  {
   "cell_type": "code",
   "execution_count": 15,
   "id": "9d672de2",
   "metadata": {},
   "outputs": [
    {
     "data": {
      "text/plain": [
       "True"
      ]
     },
     "execution_count": 15,
     "metadata": {},
     "output_type": "execute_result"
    }
   ],
   "source": [
    "d = {'my_key':200}\n",
    "\n",
    "200 in d.values()"
   ]
  },
  {
   "cell_type": "code",
   "execution_count": 16,
   "id": "e3ea15ae",
   "metadata": {},
   "outputs": [
    {
     "data": {
      "text/plain": [
       "False"
      ]
     },
     "execution_count": 16,
     "metadata": {},
     "output_type": "execute_result"
    }
   ],
   "source": [
    "200 in d.keys()"
   ]
  },
  {
   "cell_type": "code",
   "execution_count": 17,
   "id": "845a2586",
   "metadata": {},
   "outputs": [],
   "source": [
    "l=[1,59,80,67]"
   ]
  },
  {
   "cell_type": "code",
   "execution_count": 18,
   "id": "25adcbb3",
   "metadata": {},
   "outputs": [
    {
     "data": {
      "text/plain": [
       "1"
      ]
     },
     "execution_count": 18,
     "metadata": {},
     "output_type": "execute_result"
    }
   ],
   "source": [
    "min(l)"
   ]
  },
  {
   "cell_type": "code",
   "execution_count": 19,
   "id": "45ac1762",
   "metadata": {},
   "outputs": [
    {
     "data": {
      "text/plain": [
       "80"
      ]
     },
     "execution_count": 19,
     "metadata": {},
     "output_type": "execute_result"
    }
   ],
   "source": [
    "max(l)"
   ]
  },
  {
   "cell_type": "code",
   "execution_count": 21,
   "id": "43ed23c3",
   "metadata": {},
   "outputs": [],
   "source": [
    "from random import shuffle"
   ]
  },
  {
   "cell_type": "code",
   "execution_count": 22,
   "id": "fd9021cf",
   "metadata": {},
   "outputs": [],
   "source": [
    "l=[1,4,5,2,3,7,8,9]"
   ]
  },
  {
   "cell_type": "code",
   "execution_count": 23,
   "id": "5e70ce95",
   "metadata": {},
   "outputs": [],
   "source": [
    "shuffle(l)"
   ]
  },
  {
   "cell_type": "code",
   "execution_count": 24,
   "id": "e419d75f",
   "metadata": {},
   "outputs": [
    {
     "data": {
      "text/plain": [
       "[4, 9, 7, 8, 1, 2, 3, 5]"
      ]
     },
     "execution_count": 24,
     "metadata": {},
     "output_type": "execute_result"
    }
   ],
   "source": [
    "l"
   ]
  },
  {
   "cell_type": "code",
   "execution_count": 25,
   "id": "5a28f7da",
   "metadata": {},
   "outputs": [],
   "source": [
    "from random import randint"
   ]
  },
  {
   "cell_type": "code",
   "execution_count": 26,
   "id": "c78523b1",
   "metadata": {},
   "outputs": [
    {
     "data": {
      "text/plain": [
       "53"
      ]
     },
     "execution_count": 26,
     "metadata": {},
     "output_type": "execute_result"
    }
   ],
   "source": [
    "randint(0,100)"
   ]
  },
  {
   "cell_type": "code",
   "execution_count": 27,
   "id": "49ff5677",
   "metadata": {},
   "outputs": [
    {
     "data": {
      "text/plain": [
       "58"
      ]
     },
     "execution_count": 27,
     "metadata": {},
     "output_type": "execute_result"
    }
   ],
   "source": [
    "randint(0,100)"
   ]
  },
  {
   "cell_type": "code",
   "execution_count": 30,
   "id": "f1c1caa7",
   "metadata": {},
   "outputs": [
    {
     "name": "stdout",
     "output_type": "stream",
     "text": [
      "enter num5\n"
     ]
    }
   ],
   "source": [
    "result = input(\"enter num\") # always gives output as strint"
   ]
  },
  {
   "cell_type": "code",
   "execution_count": 31,
   "id": "cb06c3b6",
   "metadata": {},
   "outputs": [
    {
     "data": {
      "text/plain": [
       "'5'"
      ]
     },
     "execution_count": 31,
     "metadata": {},
     "output_type": "execute_result"
    }
   ],
   "source": [
    "result"
   ]
  },
  {
   "cell_type": "code",
   "execution_count": 32,
   "id": "ece9a8ce",
   "metadata": {},
   "outputs": [
    {
     "data": {
      "text/plain": [
       "5"
      ]
     },
     "execution_count": 32,
     "metadata": {},
     "output_type": "execute_result"
    }
   ],
   "source": [
    "int(result)"
   ]
  },
  {
   "cell_type": "markdown",
   "id": "5518f5e9",
   "metadata": {},
   "source": [
    "List Comphrehension"
   ]
  },
  {
   "cell_type": "code",
   "execution_count": 33,
   "id": "5b72c5a7",
   "metadata": {},
   "outputs": [],
   "source": [
    "my_list =\"hello\""
   ]
  },
  {
   "cell_type": "code",
   "execution_count": 36,
   "id": "c9be939d",
   "metadata": {},
   "outputs": [],
   "source": [
    "my_lista =[]\n",
    "\n",
    "for i in my_list:\n",
    "    my_lista.append(i)"
   ]
  },
  {
   "cell_type": "code",
   "execution_count": 37,
   "id": "cf1cfa25",
   "metadata": {},
   "outputs": [
    {
     "data": {
      "text/plain": [
       "['h', 'e', 'l', 'l', 'o']"
      ]
     },
     "execution_count": 37,
     "metadata": {},
     "output_type": "execute_result"
    }
   ],
   "source": [
    "my_lista"
   ]
  },
  {
   "cell_type": "code",
   "execution_count": 39,
   "id": "7adffeee",
   "metadata": {},
   "outputs": [],
   "source": [
    "l=[i for i in 'word']"
   ]
  },
  {
   "cell_type": "code",
   "execution_count": 40,
   "id": "a87b910e",
   "metadata": {},
   "outputs": [
    {
     "data": {
      "text/plain": [
       "['w', 'o', 'r', 'd']"
      ]
     },
     "execution_count": 40,
     "metadata": {},
     "output_type": "execute_result"
    }
   ],
   "source": [
    "l"
   ]
  },
  {
   "cell_type": "code",
   "execution_count": 41,
   "id": "0cbab614",
   "metadata": {},
   "outputs": [],
   "source": [
    "l2= [n**2 for n in range(0,11)]"
   ]
  },
  {
   "cell_type": "code",
   "execution_count": 42,
   "id": "ee5e75d7",
   "metadata": {},
   "outputs": [
    {
     "data": {
      "text/plain": [
       "[0, 1, 4, 9, 16, 25, 36, 49, 64, 81, 100]"
      ]
     },
     "execution_count": 42,
     "metadata": {},
     "output_type": "execute_result"
    }
   ],
   "source": [
    "l2"
   ]
  },
  {
   "cell_type": "code",
   "execution_count": 44,
   "id": "97389cc3",
   "metadata": {},
   "outputs": [],
   "source": [
    "x=[]\n",
    "\n",
    "for i in [2,4,6]:\n",
    "    for j in (1,10,100):\n",
    "        x.append(i*j)"
   ]
  },
  {
   "cell_type": "code",
   "execution_count": 45,
   "id": "c9542f03",
   "metadata": {},
   "outputs": [
    {
     "data": {
      "text/plain": [
       "[2, 20, 200, 4, 40, 400, 6, 60, 600]"
      ]
     },
     "execution_count": 45,
     "metadata": {},
     "output_type": "execute_result"
    }
   ],
   "source": [
    "x"
   ]
  },
  {
   "cell_type": "code",
   "execution_count": 43,
   "id": "eeaecd98",
   "metadata": {},
   "outputs": [
    {
     "name": "stdout",
     "output_type": "stream",
     "text": [
      "0\n"
     ]
    }
   ],
   "source": [
    "a=[3,4,4,6]\n",
    "b=[20, 4, 10, 2]\n",
    "\n",
    "for i in range(1,len(a)):\n",
    "    a[i]+=a[i-1]\n",
    "c=0\n",
    "for j in range(len(b)):\n",
    "    if a[j]<=b[j]:\n",
    "        \n",
    "        \n",
    "    "
   ]
  },
  {
   "cell_type": "code",
   "execution_count": 12,
   "id": "c7d31d75",
   "metadata": {},
   "outputs": [
    {
     "data": {
      "text/plain": [
       "[]"
      ]
     },
     "execution_count": 12,
     "metadata": {},
     "output_type": "execute_result"
    }
   ],
   "source": [
    "x"
   ]
  },
  {
   "cell_type": "code",
   "execution_count": null,
   "id": "1005b8d7",
   "metadata": {},
   "outputs": [],
   "source": []
  }
 ],
 "metadata": {
  "kernelspec": {
   "display_name": "Python 3 (ipykernel)",
   "language": "python",
   "name": "python3"
  },
  "language_info": {
   "codemirror_mode": {
    "name": "ipython",
    "version": 3
   },
   "file_extension": ".py",
   "mimetype": "text/x-python",
   "name": "python",
   "nbconvert_exporter": "python",
   "pygments_lexer": "ipython3",
   "version": "3.9.12"
  }
 },
 "nbformat": 4,
 "nbformat_minor": 5
}
